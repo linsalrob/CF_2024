{
 "cells": [
  {
   "cell_type": "markdown",
   "id": "5655d24e-5441-4a41-b8a0-5b732f877ab0",
   "metadata": {},
   "source": [
    "# Hecatomb viral analysis\n",
    "\n",
    "This is an analysis of the viral data from the CF MGI sequence libraries. We are exploring different viral components.\n",
    "\n",
    "Notes on validating a sequence match.\n",
    "\n",
    "We need to do two things to validate any \"spurious\" matches in the database. First, we need to check the database sequence to ensure that it is correct. There is a [blacklist](\n",
    "\n",
    "You will need to use `mmseqs` to extract the secondary AA database to fasta:\n",
    "\n",
    "```\n",
    "mmseqs convert2fasta databases/aa/virus_secondary_aa/sequenceDB secondary_aa.faa\n",
    "```\n",
    "\n",
    "1. Check the protein sequence in the database\n",
    "\n",
    "```\n",
    "grep -A 1 <protein id> secondary_aa.faa\n",
    "```\n",
    "\n",
    "BLAST that sequence at NCBI and make sure it is what the header says it is.\n",
    "\n",
    "2. Find the DNA sequence in the seqtable.fasta.gz\n",
    "\n",
    "```\n",
    "zgrep -A1 <DNA ID> seqtable.fasta.gz\n",
    "```\n",
    "\n",
    "BLAST that sequence at NCBI and see if it matches the same sequence"
   ]
  },
  {
   "cell_type": "code",
   "execution_count": 1,
   "id": "85419c9c-33ad-4037-83b7-a7e24c45659b",
   "metadata": {
    "ExecuteTime": {
     "end_time": "2024-10-02T05:00:52.574435Z",
     "start_time": "2024-10-02T05:00:52.237356Z"
    }
   },
   "source": [
    "import os\n",
    "import sys\n",
    "import matplotlib.pyplot as plt\n",
    "import scipy.stats as stats\n",
    "import statsmodels.stats.api as sms\n",
    "import numpy as np\n",
    "import matplotlib.pyplot as plt\n",
    "import pandas as pd\n",
    "import seaborn as sns"
   ],
   "outputs": []
  },
  {
   "cell_type": "markdown",
   "id": "4c083460-0c9a-4fc5-bf75-45255fc5104a",
   "metadata": {},
   "source": [
    "### Read the data"
   ]
  },
  {
   "cell_type": "code",
   "execution_count": 2,
   "id": "3bf91ffc-5fbb-4171-badd-019fa6d3a941",
   "metadata": {
    "tags": []
   },
   "source": [
    "if not os.path.exists('bigtable.tsv.gz'):\n",
    "    print(f\"No bigtable in {os.getcwd()}. Trying to change location\")\n",
    "    os.chdir('GitHubs/CF_Data_Analysis/hecatomb')\n",
    "os.listdir()"
   ],
   "outputs": []
  },
  {
   "cell_type": "code",
   "execution_count": 3,
   "id": "676c3ce2-6400-4c89-a0d2-4d0b3b69f002",
   "metadata": {},
   "source": [
    "metadata = pd.read_csv('CF_Metadata_Table-2023-03-23.tsv.gz',compression='gzip',header=0,sep='\\t')\n",
    "vmr = pd.read_csv('VMR_MSL39_v1.ascii.tsv.gz', compression='gzip',header=0,sep='\\t')"
   ],
   "outputs": []
  },
  {
   "cell_type": "markdown",
   "id": "831c923d-f040-4466-9292-9ce5c15ddb83",
   "metadata": {},
   "source": [
    "There are multiple entries for Family and sometimes they have different entries for host source. This just keeps the first one."
   ]
  },
  {
   "cell_type": "code",
   "execution_count": 4,
   "id": "9eeaf65d-1be9-4fb7-8bce-09f186d56a42",
   "metadata": {},
   "source": [
    "vmrfh = vmr[['Family', 'Host source']].drop_duplicates(subset='Family', keep='first')"
   ],
   "outputs": []
  },
  {
   "cell_type": "markdown",
   "id": "718015dd-f02e-44d8-a4a0-9375d318a9e9",
   "metadata": {},
   "source": [
    "In this analysis, I am _only_ using `aa` hits, because the `nt` hits are often spurious and I'm skeptical about them.\n",
    "\n",
    "We just filter out `aa` hits, and start by looking at different viral families that are found in our samples."
   ]
  },
  {
   "cell_type": "code",
   "execution_count": 5,
   "id": "e79dee70-fa3d-469b-8675-601e59977532",
   "metadata": {},
   "source": [
    "# the blacklist is some dodgy sequences that we need to filter out.\n",
    "blacklist = ['A0A097ZRK1', 'G0W2I5', 'F1AXJ9', 'Q8QTC0']"
   ],
   "outputs": []
  },
  {
   "cell_type": "code",
   "execution_count": 6,
   "id": "78aa31c9-2348-46d3-8133-e2537f72def6",
   "metadata": {},
   "source": [
    "data = pd.read_csv('bigtable.tsv.gz',compression='gzip',header=0,sep='\\t')"
   ],
   "outputs": []
  },
  {
   "cell_type": "code",
   "execution_count": 7,
   "id": "b7e59a62-f4c2-4b4d-b747-69bc2b575a33",
   "metadata": {},
   "source": [
    "# choose only the amino acid sequences\n",
    "virusesFiltered = data[(data.alnType == \"aa\") & (data.kingdom == \"Viruses\") & (~data.targetID.isin(blacklist) & (data.evalue < 1e-20))]"
   ],
   "outputs": []
  },
  {
   "cell_type": "code",
   "execution_count": 8,
   "id": "3b80fc04-c5df-4554-8d16-8006289a3915",
   "metadata": {
    "tags": []
   },
   "source": [
    "# create new columns for the patient and the sample date\n",
    "virusesFiltered[['patient', 'date', 'Sputum or BAL']] = virusesFiltered['sampleID'].str.split('_', expand=True)"
   ],
   "outputs": []
  },
  {
   "cell_type": "markdown",
   "id": "ec16a18c-a9ba-49d2-b1c4-547ad28d0a5c",
   "metadata": {
    "tags": []
   },
   "source": [
    "### Add the domain and then filter the viruses for now!\n",
    "\n",
    "This data comes from the [VMR](https://ictv.global/vmr) so its not that great! The `host source` could be a host or it could be a source, or it could be both!\n",
    "\n",
    "We end up with:\n",
    "    'bacteria', 'algae', 'vertebrates', 'protists', 'archaea',\n",
    "    'invertebrates', 'plants', 'fungi', 'invertebrates, vertebrates',\n",
    "    'plants (S)'\n",
    "\n",
    "The `plants (S)` means the sample was taken from a plant."
   ]
  },
  {
   "cell_type": "code",
   "execution_count": 9,
   "id": "34c5f62e-11cc-47b3-a226-0e61521871da",
   "metadata": {},
   "source": [
    "virusesFiltHost = pd.merge(virusesFiltered, vmrfh, left_on=\"family\", right_on=\"Family\", how='left')\n",
    "really_bacterial = ['unclassified Caudoviricetes family', 'unclassified Crassvirales family']\n",
    "virusesFiltHost.loc[(virusesFiltHost['family'].isin(really_bacterial)), 'Host source'] = 'bacteria'\n",
    "to_remove = []"
   ],
   "outputs": []
  },
  {
   "cell_type": "markdown",
   "id": "b2046037-5712-4678-95f0-096cc5da348c",
   "metadata": {
    "tags": []
   },
   "source": [
    "#### A quick look at some of these families"
   ]
  },
  {
   "cell_type": "markdown",
   "id": "541c9624-6cf8-428b-bd14-7832db474f50",
   "metadata": {},
   "source": [
    "#### Bacteria\n",
    "\n",
    "There are plenty of bacterial viruses (duh!) so we make that its own dataframe and filter them out from virusesFiltered"
   ]
  },
  {
   "cell_type": "code",
   "execution_count": 10,
   "id": "b9e9d208-6ace-48cd-a12e-abd6ca5e7944",
   "metadata": {},
   "source": [
    "bacterial_viruses = virusesFiltHost[(virusesFiltHost['Host source'] == 'bacteria')]\n",
    "to_remove.append('bacteria')"
   ],
   "outputs": []
  },
  {
   "cell_type": "markdown",
   "id": "dfce9717-8d99-463d-9094-91f4a14fa08b",
   "metadata": {},
   "source": [
    "#### Archaea"
   ]
  },
  {
   "cell_type": "code",
   "execution_count": 11,
   "id": "9964df16-5db4-4301-a96a-72661aad123f",
   "metadata": {},
   "source": [
    "host_source = \"archaea\"\n",
    "rds = virusesFiltHost[(virusesFiltHost['Host source'] == host_source)].shape[0]\n",
    "sps = virusesFiltHost[(virusesFiltHost['Host source'] == host_source)].species.unique()\n",
    "fams = virusesFiltHost[(virusesFiltHost['Host source'] == host_source)].family.unique()\n",
    "print(f\"There are {rds} reads that map to {host_source} viruses, and they belong to {len(sps)} species \", end=\"\")\n",
    "if len(sps) < 5:\n",
    "    spsstr = \"; \".join(sps)\n",
    "    print(f\"({spsstr}) \", end=\"\")\n",
    "print(f\"and {len(fams)} families: {fams}\")\n",
    "to_remove.append(host_source)"
   ],
   "outputs": []
  },
  {
   "cell_type": "markdown",
   "id": "6f8575b5-5e78-4b05-8a53-7dfb5d128242",
   "metadata": {},
   "source": [
    "#### Plants\n",
    "\n",
    "There are not really enough plant related sequences (there are 736 total) to make any meaningful comparisons, so we will ignore those."
   ]
  },
  {
   "cell_type": "code",
   "execution_count": 12,
   "id": "6036588d-41ab-488a-aa08-48bce46a1b80",
   "metadata": {},
   "source": [
    "host_source = \"plants\"\n",
    "rds = virusesFiltHost[(virusesFiltHost['Host source'] == host_source)].shape[0]\n",
    "sps = virusesFiltHost[(virusesFiltHost['Host source'] == host_source)].species.unique()\n",
    "fams = virusesFiltHost[(virusesFiltHost['Host source'] == host_source)].family.unique()\n",
    "print(f\"There are {rds} reads that map to {host_source} viruses, and they belong to {len(sps)} species \", end=\"\")\n",
    "if len(sps) < 5:\n",
    "    spsstr = \"; \".join(sps)\n",
    "    print(f\"({spsstr}) \", end=\"\")\n",
    "print(f\"and {len(fams)} families: {fams}\")\n",
    "to_remove.append(host_source)"
   ],
   "outputs": []
  },
  {
   "cell_type": "code",
   "execution_count": 13,
   "id": "fe181cbd-fd18-401d-b091-7d492f89439e",
   "metadata": {},
   "source": [
    "host_source = \"plants (S)\"\n",
    "rds = virusesFiltHost[(virusesFiltHost['Host source'] == host_source)].shape[0]\n",
    "sps = virusesFiltHost[(virusesFiltHost['Host source'] == host_source)].species.unique()\n",
    "fams = virusesFiltHost[(virusesFiltHost['Host source'] == host_source)].family.unique()\n",
    "print(f\"There are {rds} reads that map to {host_source} viruses, and they belong to {len(sps)} species \", end=\"\")\n",
    "if len(sps) < 5:\n",
    "    spsstr = \"; \".join(sps)\n",
    "    print(f\"({spsstr}) \", end=\"\")\n",
    "print(f\"and {len(fams)} families: {fams}\")\n",
    "to_remove.append(host_source)"
   ],
   "outputs": []
  },
  {
   "cell_type": "markdown",
   "id": "7d3c13f4-4084-4ac1-8864-19d129d972dc",
   "metadata": {},
   "source": [
    "#### Algae\n",
    "\n",
    "There are quite a few algal viruses but they are all members of the Phycodnaviridae."
   ]
  },
  {
   "cell_type": "code",
   "execution_count": 14,
   "id": "062884d9-dbc9-48cd-b03d-bc0d507e64dd",
   "metadata": {},
   "source": [
    "host_source = \"algae\"\n",
    "rds = virusesFiltHost[(virusesFiltHost['Host source'] == host_source)].shape[0]\n",
    "sps = virusesFiltHost[(virusesFiltHost['Host source'] == host_source)].species.unique()\n",
    "fams = virusesFiltHost[(virusesFiltHost['Host source'] == host_source)].family.unique()\n",
    "print(f\"There are {rds} reads that map to {host_source} viruses, and they belong to {len(sps)} species \", end=\"\")\n",
    "if len(sps) < 5:\n",
    "    spsstr = \"; \".join(sps)\n",
    "    print(f\"({spsstr}) \", end=\"\")\n",
    "print(f\"and {len(fams)} families: {fams}\")\n",
    "to_remove.append(host_source)"
   ],
   "outputs": []
  },
  {
   "cell_type": "markdown",
   "id": "2e77976e-01fb-41fb-b003-deb90be4cb30",
   "metadata": {},
   "source": [
    "#### Protists"
   ]
  },
  {
   "cell_type": "code",
   "execution_count": 15,
   "id": "039d49e1-4a44-4219-9b33-0cadf5958dc5",
   "metadata": {},
   "source": [
    "host_source = \"protists\"\n",
    "rds = virusesFiltHost[(virusesFiltHost['Host source'] == host_source)].shape[0]\n",
    "sps = virusesFiltHost[(virusesFiltHost['Host source'] == host_source)].species.unique()\n",
    "fams = virusesFiltHost[(virusesFiltHost['Host source'] == host_source)].family.unique()\n",
    "print(f\"There are {rds} reads that map to {host_source} viruses, and they belong to {len(sps)} species \", end=\"\")\n",
    "if len(sps) < 5:\n",
    "    spsstr = \"; \".join(sps)\n",
    "    print(f\"({spsstr}) \", end=\"\")\n",
    "print(f\"and {len(fams)} families: {fams}\")"
   ],
   "outputs": []
  },
  {
   "cell_type": "markdown",
   "id": "59a6baff-c7f3-49b0-9734-b73ed198132b",
   "metadata": {},
   "source": [
    "I'm not sure about these. I have included them for now, because somne of those families (Metaviridae) include LTR retrotransposons from Eukaryotes."
   ]
  },
  {
   "cell_type": "markdown",
   "id": "2321a0db-bf10-457b-a7f2-d5894603b7e2",
   "metadata": {},
   "source": [
    "#### Invertebrates"
   ]
  },
  {
   "cell_type": "code",
   "execution_count": 16,
   "id": "8392718a-8297-4bc7-8cfa-42731d8ac10e",
   "metadata": {},
   "source": [
    "host_source = \"invertebrates\"\n",
    "rds = virusesFiltHost[(virusesFiltHost['Host source'] == host_source)].shape[0]\n",
    "sps = virusesFiltHost[(virusesFiltHost['Host source'] == host_source)].species.unique()\n",
    "fams = virusesFiltHost[(virusesFiltHost['Host source'] == host_source)].family.unique()\n",
    "print(f\"There are {rds} reads that map to {host_source} viruses, and they belong to {len(sps)} species \", end=\"\")\n",
    "if len(sps) < 5:\n",
    "    spsstr = \"; \".join(sps)\n",
    "    print(f\"({spsstr}) \", end=\"\")\n",
    "print(f\"and {len(fams)} families: {fams}\")"
   ],
   "outputs": []
  },
  {
   "cell_type": "markdown",
   "id": "b9622ec8-b5bd-46d5-bc16-ba51cf889291",
   "metadata": {},
   "source": [
    "I don't think we should remove these - I think they may also infect euks"
   ]
  },
  {
   "cell_type": "markdown",
   "id": "b9d8fe0f-320e-4754-9aed-e11109443bdf",
   "metadata": {},
   "source": [
    "#### Fungi"
   ]
  },
  {
   "cell_type": "code",
   "execution_count": 17,
   "id": "859d939d-9ced-43dd-b3e2-73c92831bec0",
   "metadata": {},
   "source": [
    "host_source = \"fungi\"\n",
    "rds = virusesFiltHost[(virusesFiltHost['Host source'] == host_source)].shape[0]\n",
    "sps = virusesFiltHost[(virusesFiltHost['Host source'] == host_source)].species.unique()\n",
    "fams = virusesFiltHost[(virusesFiltHost['Host source'] == host_source)].family.unique()\n",
    "print(f\"There are {rds} reads that map to {host_source} viruses, and they belong to {len(sps)} species \", end=\"\")\n",
    "if len(sps) < 5:\n",
    "    spsstr = \"; \".join(sps)\n",
    "    print(f\"({spsstr}) \", end=\"\")\n",
    "print(f\"and {len(fams)} families: {fams}\")"
   ],
   "outputs": []
  },
  {
   "cell_type": "markdown",
   "id": "f0bc2bd7-733f-4b04-9c12-56cbfb4512b4",
   "metadata": {},
   "source": [
    "Hmm, odd that the metaviridae are represented here too, since I did the join on viral family. Ho hum, we'll keep these, too."
   ]
  },
  {
   "cell_type": "markdown",
   "id": "21b9de76-8a29-42d1-b974-0ce0115336e2",
   "metadata": {},
   "source": [
    "### Filter out the unwanted viruses"
   ]
  },
  {
   "cell_type": "code",
   "execution_count": 18,
   "id": "b4ad38b5-722f-4528-bdf3-1d7b98b5f611",
   "metadata": {},
   "source": [
    "virusesFiltHost = virusesFiltHost[~virusesFiltHost['Host source'].isin(to_remove)]\n",
    "virusesFiltHost['Host source'].unique()"
   ],
   "outputs": []
  },
  {
   "cell_type": "markdown",
   "id": "8a5021f8-8e48-488d-8f3d-cc721367f02c",
   "metadata": {},
   "source": [
    "### What do we have after filtering?"
   ]
  },
  {
   "cell_type": "code",
   "execution_count": 19,
   "id": "eefc5294-4e3c-4d51-ba93-3ef262a23fba",
   "metadata": {},
   "source": [
    "#filter\n",
    "virusesGroup = virusesFiltHost.groupby(by=['family','alnlen','pident'], as_index=False).count()\n",
    "\n",
    "#styling\n",
    "sizeScatter = 10 * virusesGroup['count']\n",
    "sns.set_style(\"darkgrid\")\n",
    "sns.set_palette(\"colorblind\")\n",
    "sns.set(rc={'figure.figsize':(20,10)})\n",
    "\n",
    "g = sns.FacetGrid(virusesGroup, col=\"family\", col_wrap=6)\n",
    "g.map_dataframe(sns.scatterplot, \"alnlen\", \"pident\", alpha=.8, sizes=(100,500), size=sizeScatter)\n",
    "for ax in g.axes.flat:\n",
    "    ax.tick_params(axis='both', labelleft=True, labelbottom=True)\n",
    "    ax.axhline(y=80, c='red', linestyle='dashed', label=\"_horizontal\")\n",
    "    ax.axvline(x=150, c='red', linestyle='dashed', label=\"_vertical\")\n",
    "\n",
    "g.fig.subplots_adjust(hspace=0.4)\n",
    "g.set_axis_labels(\"Alignment length\", \"Percent Identity\")\n",
    "plt.legend(bbox_to_anchor=(5.0,1), loc=0, borderaxespad=2,ncol=6, shadow=True, labelspacing=1.5, borderpad=1.5)\n",
    "plt.savefig(\"img/EukViruses.png\")\n",
    "plt.show()\n"
   ],
   "outputs": []
  },
  {
   "cell_type": "code",
   "execution_count": 20,
   "id": "1a6f15d2-b51b-4602-9483-4df7c84b12fc",
   "metadata": {},
   "source": [
    "virusesFiltHost.family.unique()"
   ],
   "outputs": []
  },
  {
   "cell_type": "markdown",
   "id": "e55ebbf2-38f0-48f4-9e04-51ff1a68945b",
   "metadata": {},
   "source": [
    "### Retroviridae\n",
    "\n",
    "There are lots of hits to Lentivirus, especially HIV-1, which we know are spurious. Here, we filter those out. These are hits to `G0W2I5` and `A0A097ZRK1`. (Note, I am keeping a list of sequences that are incorrect in `sequence_ids.yaml` and those are included in the `blacklist` list above. Here we just look at other Retroviridae.\n",
    "\n",
    "We note that these are hERVs and we only find them in a few samples, as we might expect."
   ]
  },
  {
   "cell_type": "code",
   "execution_count": 21,
   "id": "622b7164-3fd5-4001-b4ff-bc72b21681f4",
   "metadata": {},
   "source": [
    "virusesFiltHost[virusesFiltHost.family == 'Retroviridae']"
   ],
   "outputs": []
  },
  {
   "cell_type": "code",
   "execution_count": 22,
   "id": "f507b235-4c3d-41db-8b0d-67f9a4778653",
   "metadata": {},
   "source": [
    "virusesFiltHost[virusesFiltHost.family == 'Retroviridae'].patient.unique()"
   ],
   "outputs": []
  },
  {
   "cell_type": "markdown",
   "id": "075d5f48-8f65-4b4b-8d3f-b0e327d62bcc",
   "metadata": {},
   "source": [
    "### Parvoviridae"
   ]
  },
  {
   "attachments": {
    "db1a6a2a-333e-4b9b-9d38-7616a1bc2cd7.png": {
     "image/png": "[encoded data removed]"
    }
   },
   "cell_type": "markdown",
   "id": "c0212ba8-f787-4100-b7d7-cb8e28c95a70",
   "metadata": {},
   "source": [
    "![human_parvo.png](attachment:db1a6a2a-333e-4b9b-9d38-7616a1bc2cd7.png)There is a single sequence from patient 788707 that maps to the human Parovirus. The sequence is\n",
    "\n",
    "```\n",
    ">788707_20171213_S:1:6.877e-03:2971\n",
    "AAAATGTACAAGTTACAGAGTTGGCACTAAAAGTGGCCCCCTCACTCCACATGCTTTTAACAGGATTACTGCCCCCCCCTCCTGCACCAGTGCTGGCTTCTGCAGAATTAACTGAAGTCATGCTTGGGTATTTTTCTGAGGCGTTGTAAGCGGGAACTTCCGGCAAACTTCCTTGAAAATGGGCCACAGGGGCAGCTGCACCTTTTAAAGTAAAGTAGTCTTTTACTACTTGTGCTTGAAACCCAGTTTCATTTTTTATATTTTTTAAAAGCTCTTCATCTGCTACAGTCCAATGAGTA\n",
    "```\n",
    "\n",
    "The alignment using blastx is:\n",
    "\n",
    "![Blastx alignment](img/human_parvo.png \"Alignment of the above sequence to the NR using blastx\")"
   ]
  },
  {
   "cell_type": "code",
   "execution_count": 23,
   "id": "d8fce405-8e83-4e30-8a9d-6ef91b2599b8",
   "metadata": {
    "tags": []
   },
   "source": [
    "virusesFiltHost[virusesFiltHost.family == 'Parvoviridae']"
   ],
   "outputs": []
  },
  {
   "cell_type": "code",
   "execution_count": 24,
   "id": "38545891-3073-4ec6-852a-7c969c1de045",
   "metadata": {},
   "source": [
    "sorted(virusesFiltHost[virusesFiltHost.patient == '788707'].date.unique())"
   ],
   "outputs": []
  },
  {
   "cell_type": "markdown",
   "id": "c82b1378-a842-44f8-92c0-911b23b07dfb",
   "metadata": {},
   "source": [
    "Note that for this patient it was the first sample, and we have not detected it in subsequent samples."
   ]
  },
  {
   "cell_type": "markdown",
   "id": "e2f51191-e2da-418f-8cfb-5918cac67334",
   "metadata": {},
   "source": [
    "### Polyomaviridae"
   ]
  },
  {
   "cell_type": "markdown",
   "id": "15858749-491b-4996-8585-c9002e68fdd6",
   "metadata": {},
   "source": [
    "It looks like two patients (in different years) had polyomavirus. A0A2S1LV97 is MC Polyomavirus, while B3FQQ5 is WU or betapolyomavirus"
   ]
  },
  {
   "cell_type": "code",
   "execution_count": 25,
   "id": "8c6e9267-babc-43ba-9e52-7e66d74038df",
   "metadata": {},
   "source": [
    "virusesFiltHost[virusesFiltHost.family == 'Polyomaviridae']"
   ],
   "outputs": []
  },
  {
   "cell_type": "code",
   "execution_count": 25,
   "id": "037e256c-7f2c-48d9-b34c-632bf16579e8",
   "metadata": {},
   "source": [
    "virusesFiltHost[(virusesFiltHost.patient == '748699') | (virusesFiltHost.patient == '676138')][['patient', 'date']].drop_duplicates().sort_values(by = ['patient', 'date'])"
   ],
   "outputs": []
  },
  {
   "cell_type": "markdown",
   "id": "bdfecaaa-281b-434b-9058-040a1672d471",
   "metadata": {},
   "source": [
    "Note that for patient 676138 this was the last sample taken, but for patient 748699 we took another sample 5 days later where we did not detect polyomavirus"
   ]
  },
  {
   "cell_type": "markdown",
   "id": "fde0e6ba-7777-451d-aa6d-6cb226bb090b",
   "metadata": {},
   "source": [
    "### Adenoviridae\n",
    "\n",
    "See the NOTE below. These are NOT Adenoviridae sequences"
   ]
  },
  {
   "cell_type": "code",
   "execution_count": 26,
   "id": "b64a4fdc-911f-4974-9128-ccf9f7c16079",
   "metadata": {},
   "source": [
    "data[data.family == 'Adenoviridae'].alnType.unique()"
   ],
   "outputs": []
  },
  {
   "cell_type": "markdown",
   "id": "acab62b2-6dc7-4441-9827-55036dec2086",
   "metadata": {},
   "source": [
    "all the hits to Adenoviruses are nt hits and there are no aa hits. This seems wrong!\n",
    "\n",
    "Lets go dumpster diving and find out more about the Adenoviridae!"
   ]
  },
  {
   "cell_type": "code",
   "execution_count": 27,
   "id": "55cd7a23-ab74-4c0d-aae8-484b45d9cdde",
   "metadata": {},
   "source": [
    "# choose only the amino acid sequences\n",
    "adeno = data[(data.family == 'Adenoviridae') & (~data.targetID.isin(blacklist))]\n",
    "adeno[['patient', 'date', 'Sputum or BAL']] = adeno['sampleID'].str.split('_', expand=True)"
   ],
   "outputs": []
  },
  {
   "cell_type": "code",
   "execution_count": 28,
   "id": "c77c125c-8adf-49ed-b63e-4709d3d422b5",
   "metadata": {},
   "source": [
    "print(f\"There are {len(adeno.seqID.unique())} adenovirus sequences that appear in {len(adeno.patient.unique())} patients\")"
   ],
   "outputs": []
  },
  {
   "cell_type": "code",
   "execution_count": 29,
   "id": "c60c6a82-80f0-43fd-a850-3de9bbd26e2d",
   "metadata": {},
   "source": [
    "sns.set_style(\"darkgrid\")\n",
    "sns.set(rc={'figure.figsize':(12,8)})\n",
    "sns.histplot(x=\"tstart\", data=adeno, bins=range(0, 35935, 50))\n",
    "plt.tight_layout()\n",
    "# Shink current axis by 50% to allow legend to fit nicely\n",
    "ax = plt.gca()\n",
    "box = ax.get_position()\n",
    "ax.set_xlim(0, 35935)\n",
    "ax.set_xlabel(\"Start position in genome\")\n",
    "ax.set_ylabel(\"Number of matches\")\n",
    "ax.set_position([box.x0, box.y0, box.width * 0.8, box.height])\n",
    "plt.legend(loc=\"upper left\", bbox_to_anchor=(1.0, 1.0), borderaxespad=1,ncol=1, shadow=True, labelspacing=1.5, borderpad=1.5)\n",
    "plt.show()"
   ],
   "outputs": []
  },
  {
   "cell_type": "markdown",
   "id": "101477d7-7531-421f-840e-ae353516e1de",
   "metadata": {},
   "source": [
    "Overall, there are very few matches (49 adenovirus sequences that appear in 24 patients), they are all nucleotide matches, and those are quite skewed to two regions of the genome (~2,000 bp in and about 32,000 bp in). My guess is that this region is conserved with another region in the human genome. \n",
    "\n"
   ]
  },
  {
   "cell_type": "code",
   "execution_count": 30,
   "id": "0c1d8857-aa87-4c1d-8493-e8b2a08e859b",
   "metadata": {},
   "source": [
    "adeno.head()"
   ],
   "outputs": []
  },
  {
   "cell_type": "markdown",
   "id": "6c9508aa-5bf2-463e-9caa-ae7ddb010f8a",
   "metadata": {},
   "source": [
    "**NOTE**: These sequences are not even Adenovirus anyway. The first sequence matches to a Neiserria. Ignore all the Adenovirus hits."
   ]
  },
  {
   "cell_type": "code",
   "execution_count": null,
   "id": "9941111c-5a5a-470f-8498-2197a1e9fd4a",
   "metadata": {},
   "source": [],
   "outputs": []
  },
  {
   "cell_type": "markdown",
   "id": "1c8d309a-adba-4ac6-9a0b-ac10bb03a394",
   "metadata": {},
   "source": [
    "### Herpes viruses\n",
    "\n",
    "Who has them and what do they have?"
   ]
  },
  {
   "cell_type": "code",
   "execution_count": 34,
   "id": "a8ce247c-e373-45d5-b2ab-35ee8b9edccc",
   "metadata": {},
   "source": [
    "\n",
    "witherpes = virusesFiltHost[virusesFiltHost.family == 'Herpesviridae'].patient.unique().shape[0]\n",
    "herpessamps = virusesFiltHost[virusesFiltHost.family == 'Herpesviridae'].sampleID.unique().shape[0]\n",
    "\n",
    "totalp = virusesFiltHost.patient.unique().shape[0]\n",
    "print(f\"{herpessamps} samples from {witherpes} pwCF out of {totalp} pwCF have Herpes viruses. Remember, some samples will appear multiple times because they are different matches to the herpes virus genome!\")"
   ],
   "outputs": []
  },
  {
   "cell_type": "code",
   "execution_count": 35,
   "id": "33a2e86d-e0f5-43b0-87d5-a13e25674763",
   "metadata": {},
   "source": [
    "herpes = virusesFiltHost[virusesFiltHost.family == 'Herpesviridae']"
   ],
   "outputs": []
  },
  {
   "cell_type": "code",
   "execution_count": 36,
   "id": "9faf5722-b72c-4a7c-b791-70e091bdd111",
   "metadata": {},
   "source": [
    "herpes.species"
   ],
   "outputs": []
  },
  {
   "cell_type": "code",
   "execution_count": 37,
   "id": "e860a80a-c71f-4079-bbfd-c57031fc07c1",
   "metadata": {},
   "source": [
    "herpes.loc[:, 'renamed_species'] = herpes.species\n",
    "herpes.loc[:,'renamed_species'] = herpes['renamed_species'].apply(lambda x: ' '.join(x.split(' ')[1:] if 'unclassified' not in x else x.split(' ')))\n",
    "herpes['renamed_species']"
   ],
   "outputs": []
  },
  {
   "cell_type": "code",
   "execution_count": 38,
   "id": "9f342872-e0bf-43d3-bbaf-bc264f94cfd8",
   "metadata": {},
   "source": [
    "sns.set_style(\"darkgrid\")\n",
    "sns.set(rc={'figure.figsize':(20,10)})\n",
    "sns.heatmap(pd.crosstab([herpes.patient], [sorted(herpes.renamed_species)], values=herpes['count'], aggfunc='sum', dropna=False).fillna(0),\n",
    "            cmap=\"rocket_r\")\n",
    "plt.xlabel(\"\")\n",
    "plt.ylabel(\"pwCF ID\")\n",
    "plt.xticks(rotation=90)\n",
    "plt.tight_layout()\n",
    "plt.savefig(\"img/HerpesViruses.png\")\n",
    "plt.show()"
   ],
   "outputs": []
  },
  {
   "cell_type": "markdown",
   "id": "24c7a37f-3463-4a37-aef3-f66b9defb94a",
   "metadata": {},
   "source": [
    "### hERV data\n",
    "\n",
    "What are the hERVs and who has them!\n",
    "\n",
    "It turns out only six samples have hERV data, and these are all single reads. So they are there, but are they important for this study?"
   ]
  },
  {
   "cell_type": "code",
   "execution_count": 39,
   "id": "a99f1899-3740-4017-a588-1644c1817025",
   "metadata": {},
   "source": [
    "virusesFiltHost[virusesFiltHost.family == 'Retroviridae']"
   ],
   "outputs": []
  },
  {
   "cell_type": "code",
   "execution_count": 40,
   "id": "cb671471-855b-4e2b-9e72-4060a8b6bc91",
   "metadata": {},
   "source": [
    "virusesFiltHost[virusesFiltHost.family == 'Retroviridae'].patient.unique().shape"
   ],
   "outputs": []
  },
  {
   "cell_type": "markdown",
   "id": "0d42708c-5937-46ed-8b7e-63499ec1ab8b",
   "metadata": {},
   "source": [
    "### Papillomaviridae\n",
    "\n",
    "Here, we extract the Papillomaviridae, and then ask are there more reads in M vs F. So we need to merge it with the metadata Gender column\n",
    "\n",
    "**EXCEPT!:** Only two of our samples have Papillomaviridae, one from a female has very high levels, while the other, from a male, has very low levels."
   ]
  },
  {
   "cell_type": "code",
   "execution_count": 42,
   "id": "0a8fbd00-8b33-4288-aeb5-8319901ad6a4",
   "metadata": {},
   "source": [
    "papv = virusesFiltHost[virusesFiltHost.family == 'Papillomaviridae']\n",
    "papvg = pd.merge(papv, metadata[['unique_ID', 'Gender']], left_on='sampleID', right_on='unique_ID')\n",
    "papvg.head(5)"
   ],
   "outputs": []
  },
  {
   "cell_type": "code",
   "execution_count": 43,
   "id": "3a3449e6-5b76-4277-81f1-22d8f685f9fb",
   "metadata": {},
   "source": [
    "withpap = papvg.patient.unique().shape[0]\n",
    "papvgsamps = papvg.sampleID.unique().shape[0]\n",
    "\n",
    "totalp = virusesFiltered.patient.unique().shape[0]\n",
    "print(f\"{papvgsamps} samples from {withpap} pwCF out of {totalp} pwCF have Herpes viruses. Remember, some samples will appear multiple times because they are different matches to the herpes virus genome!\")"
   ],
   "outputs": []
  },
  {
   "cell_type": "code",
   "execution_count": 44,
   "id": "323f072d-c080-408a-8c76-876dbda5dafb",
   "metadata": {},
   "source": [
    "papvg[['patient', 'date', 'Gender', 'genus']]"
   ],
   "outputs": []
  },
  {
   "cell_type": "code",
   "execution_count": 45,
   "id": "4e32c75a-dbf7-400f-91b8-f78f1b579b81",
   "metadata": {
    "tags": []
   },
   "source": [
    "virusesFiltHost[(virusesFiltHost.patient == '670829') | (virusesFiltHost.patient == '753522')][['patient', 'date']].drop_duplicates().sort_values(by = ['patient', 'date'])"
   ],
   "outputs": []
  },
  {
   "cell_type": "markdown",
   "id": "bd7d8cb6-f2e9-4b09-b789-b4f050cc1ac3",
   "metadata": {},
   "source": [
    "# Bacterial Viruses"
   ]
  },
  {
   "cell_type": "code",
   "execution_count": 46,
   "id": "711ee53c-a4bc-4a0c-8613-62bf5d1a3960",
   "metadata": {},
   "source": [
    "bacterial_viruses"
   ],
   "outputs": []
  },
  {
   "cell_type": "code",
   "execution_count": 47,
   "id": "283d6dfb-1b3d-4ad7-8ee3-51560d0fe6c6",
   "metadata": {},
   "source": [
    "#filter\n",
    "virusesGroup = bacterial_viruses.groupby(by=['family','alnlen','pident'], as_index=False).count()\n",
    "\n",
    "#styling\n",
    "sizeScatter = 10 * virusesGroup['count']\n",
    "sns.set_style(\"darkgrid\")\n",
    "sns.set_palette(\"colorblind\")\n",
    "sns.set(rc={'figure.figsize':(20,10)})\n",
    "\n",
    "g = sns.FacetGrid(virusesGroup, col=\"family\", col_wrap=6)\n",
    "g.map_dataframe(sns.scatterplot, \"alnlen\", \"pident\", alpha=.8, sizes=(100,500), size=sizeScatter)\n",
    "for ax in g.axes.flat:\n",
    "    ax.tick_params(axis='both', labelleft=True, labelbottom=True)\n",
    "    ax.axhline(y=80, c='red', linestyle='dashed', label=\"_horizontal\")\n",
    "    ax.axvline(x=150, c='red', linestyle='dashed', label=\"_vertical\")\n",
    "\n",
    "g.fig.subplots_adjust(hspace=0.4)\n",
    "g.set_axis_labels(\"Alignment length\", \"Percent Identity\")\n",
    "plt.legend(bbox_to_anchor=(5.0,1), loc=0, borderaxespad=2,ncol=6, shadow=True, labelspacing=1.5, borderpad=1.5)\n",
    "plt.savefig(\"img/Phages.png\")\n",
    "plt.show()\n"
   ],
   "outputs": []
  },
  {
   "cell_type": "code",
   "execution_count": 45,
   "id": "f4a8aa8c-1ddc-429a-996f-ac664186751f",
   "metadata": {},
   "source": [
    "#filter for only viruses with more than 100 abundance total\n",
    "virusesGroup = bacterial_viruses.groupby(by=['family','alnlen','pident'], as_index=False).count()\n",
    "tokeep = virusesGroup.groupby('family')['count'].sum()\n",
    "svg = virusesGroup[virusesGroup['family'].isin(tokeep[tokeep > 20].index)]\n",
    "\n",
    "#styling\n",
    "sizeScatter = 10 * svg['count']\n",
    "sns.set_style(\"darkgrid\")\n",
    "sns.set_palette(\"colorblind\")\n",
    "sns.set(rc={'figure.figsize':(20,10)})\n",
    "\n",
    "g = sns.FacetGrid(svg, col=\"family\", col_wrap=6)\n",
    "g.map_dataframe(sns.scatterplot, \"alnlen\", \"pident\", alpha=.8, sizes=(100,500), size=sizeScatter)\n",
    "for ax in g.axes.flat:\n",
    "    ax.tick_params(axis='both', labelleft=True, labelbottom=True)\n",
    "    ax.axhline(y=80, c='red', linestyle='dashed', label=\"_horizontal\")\n",
    "    ax.axvline(x=150, c='red', linestyle='dashed', label=\"_vertical\")\n",
    "\n",
    "g.fig.subplots_adjust(hspace=0.4)\n",
    "g.set_axis_labels(\"Alignment length\", \"Percent Identity\")\n",
    "plt.legend(bbox_to_anchor=(5.0,1), loc=0, borderaxespad=2,ncol=6, shadow=True, labelspacing=1.5, borderpad=1.5)\n",
    "plt.savefig(\"img/abundant_phages.png\")\n",
    "plt.show()"
   ],
   "outputs": []
  }
 ],
 "metadata": {
  "kernelspec": {
   "display_name": "Python 3 (ipykernel)",
   "language": "python",
   "name": "python3"
  },
  "language_info": {
   "codemirror_mode": {
    "name": "ipython",
    "version": 3
   },
   "file_extension": ".py",
   "mimetype": "text/x-python",
   "name": "python",
   "nbconvert_exporter": "python",
   "pygments_lexer": "ipython3",
   "version": "3.10.6"
  }
 },
 "nbformat": 4,
 "nbformat_minor": 5
}
