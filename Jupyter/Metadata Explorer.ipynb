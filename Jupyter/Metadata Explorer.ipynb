{
 "cells": [
  {
   "cell_type": "markdown",
   "id": "b075c521-a556-4c8f-b215-ffa3a6f45eab",
   "metadata": {},
   "source": [
    "# Metadata Explorer\n",
    "\n",
    "A notebook to explore the metadata so we know where to look for things!"
   ]
  },
  {
   "cell_type": "markdown",
   "id": "7304d341-9ae6-4d95-95f4-2eb345d60e95",
   "metadata": {
    "jp-MarkdownHeadingCollapsed": true
   },
   "source": [
    "### Import some libraries"
   ]
  },
  {
   "cell_type": "code",
   "execution_count": 1,
   "id": "2e6163e9-a531-4e37-a9ad-ece3524e007b",
   "metadata": {},
   "source": [
    "import os\n",
    "import sys\n",
    "\n",
    "import re\n",
    "import numpy as np\n",
    "import matplotlib.pyplot as plt\n",
    "from matplotlib.collections import PatchCollection\n",
    "import matplotlib.colors as mcolors\n",
    "import matplotlib.dates as mdates\n",
    "from matplotlib.colors import ListedColormap\n",
    "import pandas as pd\n",
    "import seaborn as sns\n",
    "import json\n",
    "\n",
    "from itertools import cycle\n",
    "\n",
    "from sklearn.decomposition import PCA\n",
    "from sklearn.preprocessing import StandardScaler\n",
    "from sklearn.preprocessing import LabelEncoder\n",
    "from sklearn.inspection import permutation_importance\n",
    "\n",
    "from sklearn.model_selection import train_test_split\n",
    "from sklearn.ensemble import RandomForestRegressor, RandomForestClassifier\n",
    "from sklearn.metrics import mean_squared_error\n",
    "\n",
    "from scipy.stats import linregress\n",
    "\n",
    "\n",
    "# there is a FutureWarning in sklearn StandardScalar which is really annoying. This ignores it.\n",
    "import warnings\n",
    "warnings.simplefilter(action='ignore', category=FutureWarning)\n",
    "\n",
    "try:\n",
    "  import google.colab\n",
    "  IN_COLAB = True\n",
    "  !pip install adjustText\n",
    "  from google.colab import drive\n",
    "  drive.mount('/content/drive')\n",
    "  datadir = '/content/drive/MyDrive/Projects/CF/Adelaide/CF_Data_Analysis'\n",
    "except ImportError:\n",
    "  IN_COLAB = False\n",
    "  datadir = '..'\n",
    "\n",
    "from adjustText import adjust_text\n",
    "\n",
    "import cf_analysis_lib"
   ],
   "outputs": []
  },
  {
   "cell_type": "markdown",
   "id": "ca652417-a2a3-4324-a64d-208008f6eae5",
   "metadata": {},
   "source": [
    "### Read the data"
   ]
  },
  {
   "cell_type": "code",
   "execution_count": 2,
   "id": "0505e1e9-2ff1-4629-8b84-791cdf36a876",
   "metadata": {},
   "source": [
    "sequence_type = 'MGI_minion'\n",
    "metadata = cf_analysis_lib.read_metadata(datadir, sequence_type)\n",
    "metadata.head(5)"
   ],
   "outputs": []
  },
  {
   "cell_type": "code",
   "execution_count": 3,
   "id": "ced573f7-4ad8-4975-b0a8-dc1125aae5ba",
   "metadata": {},
   "source": [
    "sorted(list(metadata.columns))"
   ],
   "outputs": []
  },
  {
   "cell_type": "code",
   "execution_count": 5,
   "id": "e05a6590-5c60-4905-b89b-96bdbc71a410",
   "metadata": {},
   "source": [
    "antibiotics = ['1 Cephalexin_PO', '1 Flucloaxcillin_PO', '1 Itraconazole (Lozenoc)_PO', '1 Sulfamethoxazole_trimethoprim (Bactrim)_PO', '2 Amikacin_INH', '2 Amoxicillin & Potassium clavulanate (Aug Duo)_PO', '2 Amphotericin B (Ambisome)_INH', '2 Azithromycin_PO', '2 Ceftazidime_INH', '2 Ciprofloxacin_PO', '2 Clarithromycin_PO', '2 Clofazimine PO', '2 Colistin_IHN', '2 prednisolone_PO', '2 tobramycin_INH', '3 Azithromycin_IV', '3 Aztreonam_IV', '3 Cefopime_IV', '3 Ceftazidime_IV', '3 Imipenem', '3 Ivacaftor (Kalydeco)', '3 Meropenem_IV', '3 Methylpredinosolone_IV', '3 Omalizumab_SC', '3 piperacillin sodium, tazobactam sodium (Tazocin)_IV', '3 tobramycin_IV', '4 Amikacin_IV', '4 Cefoxitin_IV', '4 Colistin_IV']"
   ],
   "outputs": []
  },
  {
   "cell_type": "code",
   "execution_count": 6,
   "id": "719e8b8a-16ee-42ef-aa1c-5331b83f4fbf",
   "metadata": {},
   "source": [
    "antibiotics"
   ],
   "outputs": []
  },
  {
   "cell_type": "code",
   "execution_count": 7,
   "id": "c7fadad7-46b4-4401-ab0c-0585cdbd57c8",
   "metadata": {},
   "source": [
    "combinations = {\n",
    "'Amikacin' : ['2 Amikacin_INH', '4 Amikacin_IV'],\n",
    "'Azithromycin' : ['2 Azithromycin_PO', '3 Azithromycin_IV'],\n",
    "'Tobramycin' : ['2 tobramycin_INH', '3 tobramycin_IV'],\n",
    "'Colistin' : ['2 Colistin_IHN', '4 Colistin_IV'],\n",
    "'Ceftazidime' : ['2 Ceftazidime_INH', '3 Ceftazidime_IV'],\n",
    "'Prednisolone' : ['2 prednisolone_PO', '3 Methylpredinosolone_IV']\n",
    "}"
   ],
   "outputs": []
  },
  {
   "cell_type": "code",
   "execution_count": 12,
   "id": "21428737-9a9e-4e24-8792-a3b6afb299ce",
   "metadata": {},
   "source": [
    "metadata[(metadata['2 Amikacin_INH'] == 1) | (metadata['4 Amikacin_IV'] == 1)]"
   ],
   "outputs": []
  },
  {
   "cell_type": "markdown",
   "id": "35c1e42e-5cd0-4098-be1d-142bafe9c5ec",
   "metadata": {},
   "source": []
  },
  {
   "cell_type": "code",
   "execution_count": 13,
   "id": "0223452b-5e2c-4e23-b5d1-37f5b4de28dd",
   "metadata": {},
   "source": [
    "tmpdf = pd.DataFrame()\n",
    "for new_col, col_array in combinations.items():\n",
    "    tmpdf[new_col] = metadata[col_array].any(axis=1).astype(int)\n",
    "tmpdf"
   ],
   "outputs": []
  },
  {
   "cell_type": "code",
   "execution_count": 14,
   "id": "aacc3092-275c-4e37-9207-e621d97ee445",
   "metadata": {},
   "source": [
    "tmpdf.sum()"
   ],
   "outputs": []
  },
  {
   "cell_type": "code",
   "execution_count": null,
   "id": "55b9814a-5592-4c9d-b6a2-cf8e6b8d369c",
   "metadata": {},
   "source": [],
   "outputs": []
  }
 ],
 "metadata": {
  "kernelspec": {
   "display_name": "Python 3 (ipykernel)",
   "language": "python",
   "name": "python3"
  },
  "language_info": {
   "codemirror_mode": {
    "name": "ipython",
    "version": 3
   },
   "file_extension": ".py",
   "mimetype": "text/x-python",
   "name": "python",
   "nbconvert_exporter": "python",
   "pygments_lexer": "ipython3",
   "version": "3.9.5"
  }
 },
 "nbformat": 4,
 "nbformat_minor": 5
}
