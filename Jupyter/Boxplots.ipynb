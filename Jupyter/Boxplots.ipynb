{
 "cells": [
  {
   "cell_type": "markdown",
   "id": "b1b67300-725a-4edd-ba23-2fbf2c044358",
   "metadata": {},
   "source": [
    "# Boxplot code  \n",
    "(c) 2023-2024 Nick Falk  \n",
    "\n",
    "These codes were contributed by Nick  \n",
    "\n",
    "This code was automatically converted from R to python by chatGPT. Use at your own risk! "
   ]
  },
  {
   "cell_type": "code",
   "execution_count": 110,
   "id": "2623812a-91ef-4867-8cde-4a8eb543bd3d",
   "metadata": {},
   "source": [
    "import os\n",
    "import sys\n",
    "import pandas as pd\n",
    "import numpy as np\n",
    "import seaborn as sns\n",
    "import matplotlib.pyplot as plt\n",
    "from scipy import stats\n",
    "from statsmodels.stats.multitest import multipletests"
   ],
   "outputs": []
  },
  {
   "cell_type": "code",
   "execution_count": 111,
   "id": "3ee2f2ea-9a25-443c-80e5-9dc9cd76a368",
   "metadata": {},
   "source": [
    "# Step 1: Data Wrangling\n",
    "# Load the taxa table\n",
    "genus_otu = pd.read_csv(\"../MinION/Taxonomy/genus_revised_minion_202304.csv.gz\", compression='gzip', index_col=0)\n",
    "genus_otu.head()"
   ],
   "outputs": []
  },
  {
   "cell_type": "code",
   "execution_count": 112,
   "id": "3e070c84-c94c-4221-9715-68e31246c0ca",
   "metadata": {},
   "source": [
    "# Normalization/Transformation\n",
    "# Square root transform\n",
    "sqrt_genus = np.sqrt(genus_otu)\n",
    "\n",
    "# Transpose the taxa table\n",
    "genus_otu2 = sqrt_genus.T\n",
    "genus_otu2.head()"
   ],
   "outputs": []
  },
  {
   "cell_type": "code",
   "execution_count": 113,
   "id": "f903f63f-a087-44c8-a0b2-50c9be99ad6e",
   "metadata": {},
   "source": [
    "# Load metadata table\n",
    "metadata = pd.read_csv(\"../MinION/Metadata/FINAL_METADATA_MINION.csv.gz\", encoding='windows-1252', compression='gzip', index_col=0)\n",
    "if metadata.shape[0] != genus_otu2.shape[0]:\n",
    "    print(\"ERROR: your metadata is probably from the minion data and not the MGI data. Please double check!\", file=sys.stderr)\n",
    "metadata.head()"
   ],
   "outputs": []
  },
  {
   "cell_type": "code",
   "execution_count": 77,
   "id": "1a53dac1-2aff-4ab6-8525-fa60515b65c4",
   "metadata": {},
   "source": [
    "# Add \"X\" character to the beginning of each row name in the metadata table\n",
    "# We skip this, because it is an R thing, I don't think you can have indexes that start with integers in R?\n",
    "# metadata.index = 'X' + metadata.index.astype(str)"
   ],
   "outputs": []
  },
  {
   "cell_type": "code",
   "execution_count": 78,
   "id": "190ad884-9a6f-453e-8d68-f1ce4670399f",
   "metadata": {},
   "source": [
    "# Merge the taxa table and metadata table by the shared row names\n",
    "merged1 = pd.merge(metadata, genus_otu2, left_index=True, right_index=True)\n",
    "merged1.head()"
   ],
   "outputs": []
  },
  {
   "cell_type": "code",
   "execution_count": 79,
   "id": "69b806a6-1c44-476c-8c77-91207f768c4c",
   "metadata": {},
   "source": [
    "merged1['CMS_Pseudomonas aeruginosa']"
   ],
   "outputs": []
  },
  {
   "cell_type": "code",
   "execution_count": 106,
   "id": "7da79fc1-10ca-4f1b-85b0-a73739483ece",
   "metadata": {},
   "source": [
    "# Convert the columns of interest to categorical type (similar to R factors)\n",
    "# Note, python allows spaces in column names!\n",
    "culture_columns = [\n",
    "    'CMS_Pseudomonas aeruginosa',\n",
    "    'CMS_Stenophotomonas maltophilia',\n",
    "    'NTM',\n",
    "    'CMS_Mycobacteroides abscessus',\n",
    "    'CMS_Mycobacterium intracellulare',\n",
    "    'CMS_Staphylococcus  aureus',\n",
    "    'CMS_Achromobacter xylosoxidans',\n",
    "    'CMS_Burkholderia cepacia',\n",
    "    'CMS_Haemophilus influenzae'\n",
    "]\n",
    "\n",
    "culture_pairs = {\n",
    "    'CMS_Pseudomonas aeruginosa' : 'g__Pseudomonas',\n",
    "    'CMS_Stenophotomonas maltophilia': 'g__Stenotrophomonas',\n",
    "    'NTM' : 'g__Mycobacterium',\n",
    "    'CMS_Mycobacteroides abscessus' : 'g__Mycobacteroides',\n",
    "    'CMS_Mycobacterium intracellulare' : 'g__Mycobacterium',\n",
    "    'CMS_Staphylococcus  aureus' : 'g__Staphylococcus',\n",
    "    'CMS_Achromobacter xylosoxidans' : 'g__Achromobacter',\n",
    "    'CMS_Burkholderia cepacia' : 'g__Burkholderia',\n",
    "    'CMS_Haemophilus influenzae' : 'g__Haemophilus'\n",
    "}\n",
    "\n",
    "\n",
    "# we don't need to convert to categories.\n",
    "for col in culture_columns:\n",
    "    merged1[col] = merged1[col].astype('category')\n"
   ],
   "outputs": []
  },
  {
   "cell_type": "code",
   "execution_count": 107,
   "id": "3a62be34-74c3-4437-8fbf-4b5cb4e87224",
   "metadata": {},
   "source": [
    "# Step 2: Create Boxplots\n",
    "def create_boxplot(data, culture_taxa, taxa):\n",
    "    subset_data = data[data[culture_taxa].notna()]\n",
    "    plt.figure(figsize=(10, 6))\n",
    "    # sns.boxplot(x=culture_taxa, y=taxa, data=subset_data, color='black', boxprops=dict(facecolor='white'))\n",
    "    sns.violinplot(x=culture_taxa, y=taxa, data=subset_data, hue=culture_taxa, palette='rocket_r', alpha=0.5)\n",
    "    sns.stripplot(x=culture_taxa, y=taxa, data=subset_data, color='black', jitter=True, alpha=0.5)\n",
    "    plt.title(\"\")\n",
    "    plt.xlabel(\"\")\n",
    "    plt.ylabel(\"Abundance in Patient\")\n",
    "    plt.xticks(ticks=[0, 1], labels=[\"Negative Culture\", \"Positive Culture\"])\n",
    "    plt.grid(True)\n",
    "    plt.tight_layout()\n",
    "    plt.show()"
   ],
   "outputs": []
  },
  {
   "cell_type": "code",
   "execution_count": 108,
   "id": "10e4e572-61a8-423e-bb72-87f183db10c5",
   "metadata": {},
   "source": [
    "# Example usage\n",
    "create_boxplot(merged1, \"CMS_Pseudomonas aeruginosa\", \"g__Pseudomonas\")"
   ],
   "outputs": []
  },
  {
   "cell_type": "code",
   "execution_count": null,
   "id": "c7ec6cac-b8d6-4d68-a1bc-9d88bcb86d3e",
   "metadata": {},
   "source": [],
   "outputs": []
  },
  {
   "cell_type": "code",
   "execution_count": 109,
   "id": "630f481d-357f-43d2-9f91-b5d3f7d6c62d",
   "metadata": {},
   "source": [
    "fig, ax = plt.subplots(figsize=(18, 12), nrows=3, ncols=3, sharex=False, sharey=False)\n",
    "\n",
    "k = 0\n",
    "for i in [0, 1, 2]:\n",
    "    for j in [0, 1, 2]:\n",
    "        culture_taxa = culture_columns[k]\n",
    "        taxa = culture_pairs[culture_taxa]\n",
    "        subset_data = merged1[merged1[culture_taxa].notna()]\n",
    "        g = sns.violinplot(x=culture_taxa, y=taxa, data=subset_data, hue=culture_taxa, palette='rocket_r', alpha=0.5, ax=ax[j][i])\n",
    "        g = sns.stripplot(x=culture_taxa, y=taxa, data=subset_data, color='black', jitter=True, alpha=0.5, ax=ax[j][i])\n",
    "        g.set_xlabel(\"\")\n",
    "        g.set_ylabel(\"Normalised Abundance in Patient\")\n",
    "        g.set_xlim(-0.5, 1.5)\n",
    "        g.set_xticks(ticks=[0, 1], labels=[\"Negative Culture\", \"Positive Culture\"])\n",
    "        g.set_title(culture_taxa.replace('CMS_', ''))\n",
    "        k+=1\n",
    "        \n",
    "\n",
    "plt.tight_layout()\n",
    "plt.show()\n",
    "        \n"
   ],
   "outputs": []
  },
  {
   "cell_type": "code",
   "execution_count": 83,
   "id": "5de90233-b0a8-40a8-96cd-cf891d35fb2d",
   "metadata": {},
   "source": [
    "# Step 3: Additionally Stats Tests\n",
    "# Perform Kruskal-Wallis Test\n",
    "kruskal_stat, p_value = stats.kruskal(\n",
    "    merged1.loc[merged1['CMS_Pseudomonas aeruginosa'] == 0.0, 'g__Pseudomonas'],\n",
    "    merged1.loc[merged1['CMS_Pseudomonas aeruginosa'] == 1.0, 'g__Pseudomonas']\n",
    ")\n",
    "print(f'Kruskal-Wallis Test statistic: {kruskal_stat}, p-value: {p_value}')"
   ],
   "outputs": []
  },
  {
   "cell_type": "code",
   "execution_count": 84,
   "id": "4485820f-38cf-4c99-8849-87b1094b8cc2",
   "metadata": {},
   "source": [
    "# Calculate median\n",
    "g__CMS_Pseudomonas_aeruginosa_median = merged1.groupby('CMS_Pseudomonas aeruginosa', observed=True)['g__Pseudomonas'].median()\n",
    "print(g__CMS_Pseudomonas_aeruginosa_median)"
   ],
   "outputs": []
  },
  {
   "cell_type": "code",
   "execution_count": 85,
   "id": "a897c80d-df91-45dc-aa74-25a09ed0da57",
   "metadata": {},
   "source": [
    "# Filter to get the threshold value for hits in the \"0\" grouping\n",
    "threshold_CMS_Pseudomonas_aeruginosa = g__CMS_Pseudomonas_aeruginosa_median.loc[1]\n",
    "print(threshold_CMS_Pseudomonas_aeruginosa)"
   ],
   "outputs": []
  },
  {
   "cell_type": "code",
   "execution_count": 86,
   "id": "ccddac26-19c2-48a9-b9f2-edd8c6a72f37",
   "metadata": {},
   "source": [
    "# Find row names where the value is above the threshold\n",
    "above_threshold_rownames_CMS_Pseudomonas_aeruginosa = merged1[\n",
    "    (merged1['CMS_Pseudomonas aeruginosa'] == 0) &\n",
    "    (merged1['g__Pseudomonas'] > threshold_CMS_Pseudomonas_aeruginosa)\n",
    "].index.tolist()\n",
    "# Print the row names\n",
    "print(above_threshold_rownames_CMS_Pseudomonas_aeruginosa)"
   ],
   "outputs": []
  },
  {
   "cell_type": "code",
   "execution_count": 87,
   "id": "5f5f6bc8-9b7c-4fcf-879e-4691f06452af",
   "metadata": {},
   "source": [
    "# Save results to CSV\n",
    "pd.DataFrame(above_threshold_rownames_CMS_Pseudomonas_aeruginosa).to_csv(\"CMS_Pseudomonas.aeruginosa.csv\", index=False)"
   ],
   "outputs": []
  },
  {
   "cell_type": "code",
   "execution_count": 88,
   "id": "96fc3671-6c4c-4b6d-a18b-7f8ffea0d05e",
   "metadata": {},
   "source": [
    "# Run pairwise Wilcoxon test on groups within a column\n",
    "\n",
    "\n",
    "results = stats.wilcoxon(\n",
    "    merged1['g__Pseudomonas'][merged1['CMS_Pseudomonas aeruginosa'] == 0],\n",
    "    merged1['g__Pseudomonas'][merged1['CMS_Pseudomonas aeruginosa'] == 1]\n",
    ")\n",
    "\n",
    "p_adj = multipletests([results.pvalue], method='fdr_bh')[1][0]\n",
    "print(f'Adjusted p-value for pairwise test: {p_adj}')\n"
   ],
   "outputs": []
  },
  {
   "cell_type": "code",
   "execution_count": null,
   "id": "8c3b499f-e335-4448-8ba3-c5f6616d7c2a",
   "metadata": {},
   "source": [],
   "outputs": []
  },
  {
   "cell_type": "code",
   "execution_count": null,
   "id": "d8d90cca-f34a-462c-9dd7-6abd4d50cf58",
   "metadata": {},
   "source": [],
   "outputs": []
  }
 ],
 "metadata": {
  "kernelspec": {
   "display_name": "BioinfieConda",
   "language": "python",
   "name": "bioinfieconda"
  },
  "language_info": {
   "codemirror_mode": {
    "name": "ipython",
    "version": 3
   },
   "file_extension": ".py",
   "mimetype": "text/x-python",
   "name": "python",
   "nbconvert_exporter": "python",
   "pygments_lexer": "ipython3",
   "version": "3.9.19"
  }
 },
 "nbformat": 4,
 "nbformat_minor": 5
}
