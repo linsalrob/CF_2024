{
 "cells": [
  {
   "cell_type": "code",
   "execution_count": null,
   "metadata": {
    "id": "cI3pCeEwtIde"
   },
   "source": [],
   "outputs": []
  },
  {
   "cell_type": "markdown",
   "metadata": {
    "id": "DL0ESQCltNBg"
   },
   "source": [
    "# Machine Learning with the CF data.\n",
    "\n",
    "Can we predict either FEV1 directly or probably FEV1 class"
   ]
  },
  {
   "cell_type": "code",
   "execution_count": 1,
   "metadata": {
    "colab": {
     "base_uri": "https://localhost:8080/"
    },
    "id": "86lLPgC7tU-k",
    "outputId": "f8ce49af-7c8f-4e95-f725-ba1d31f40c6b"
   },
   "source": [
    "import os\n",
    "import sys\n",
    "\n",
    "import re\n",
    "import numpy as np\n",
    "import matplotlib.pyplot as plt\n",
    "from matplotlib.collections import PatchCollection\n",
    "from matplotlib.colors import ListedColormap\n",
    "import matplotlib.dates as mdates\n",
    "import pandas as pd\n",
    "import seaborn as sns\n",
    "import json\n",
    "\n",
    "from itertools import cycle\n",
    "\n",
    "from sklearn.decomposition import PCA\n",
    "from sklearn.preprocessing import StandardScaler\n",
    "from sklearn.preprocessing import LabelEncoder\n",
    "from sklearn.inspection import permutation_importance\n",
    "\n",
    "from sklearn.model_selection import train_test_split\n",
    "from sklearn.ensemble import RandomForestRegressor, RandomForestClassifier\n",
    "from sklearn.metrics import mean_squared_error\n",
    "\n",
    "from scipy.stats import linregress\n",
    "\n",
    "\n",
    "# there is a FutureWarning in sklearn StandardScalar which is really annoying. This ignores it.\n",
    "import warnings\n",
    "warnings.simplefilter(action='ignore', category=FutureWarning)\n",
    "\n",
    "try:\n",
    "  import google.colab\n",
    "  IN_COLAB = True\n",
    "  !pip install adjustText\n",
    "  from google.colab import drive\n",
    "  drive.mount('/content/drive')\n",
    "  datadir = '/content/drive/MyDrive/Projects/CF/Adelaide/CF_Data_Analysis'\n",
    "except ImportError:\n",
    "  IN_COLAB = False\n",
    "  datadir = '..'\n",
    "\n",
    "from adjustText import adjust_text"
   ],
   "outputs": []
  },
  {
   "cell_type": "code",
   "execution_count": 2,
   "metadata": {},
   "source": [
    "import cf_analysis_lib\n",
    "sequence_type = \"MGI\"\n",
    "tax = 'genus'\n",
    "datadir = '..'\n",
    "pathogens = cf_analysis_lib.pathogens\n",
    "\n",
    "metadata = cf_analysis_lib.read_metadata(datadir, sequence_type)\n",
    "metadata.head()\n",
    "\n",
    "df = cf_analysis_lib.read_taxonomy(datadir, sequence_type, tax)\n",
    "df = df.T\n",
    "df = df.rename_axis('NAME')\n",
    "df"
   ],
   "outputs": []
  },
  {
   "cell_type": "code",
   "execution_count": 3,
   "metadata": {
    "colab": {
     "base_uri": "https://localhost:8080/",
     "height": 510
    },
    "id": "oh6Pw8IMttXz",
    "outputId": "529425b6-eff9-4816-9176-868c90646cfb"
   },
   "source": [
    "# prompt: I have df with the counts of different bacteria, and metadata with the different data. How do I build a machine learning model to identify which different bacteria from df are best at predicting the values in FEV1_RATIO_SCORE in metadata? Both my data frames have a column called Pseudomonas, and I want to call the one from metadata \"Culture Pseudomonas\"\n",
    "\n",
    "# Merge the dataframes\n",
    "merged_df = df.join(metadata[['FEV1_RATIO_SCORE']])\n",
    "\n",
    "# this data set models just the pathogens\n",
    "#X = merged_df[list(pathogens)] # Features (bacteria counts)\n",
    "#y = merged_df['FEV1_RATIO_SCORE'] # Target variable\n",
    "\n",
    "# this data set models all bacteria\n",
    "X = merged_df.drop('FEV1_RATIO_SCORE', axis=1)\n",
    "y = merged_df['FEV1_RATIO_SCORE']\n",
    "\n",
    "# Handle missing values (if any) - replace with mean for simplicity\n",
    "X = X.fillna(X.mean())\n",
    "y = y.fillna(y.mean())\n",
    "\n",
    "# Split the data into training and testing sets\n",
    "X_train, X_test, y_train, y_test = train_test_split(X, y, test_size=0.2, random_state=42)\n",
    "\n",
    "# Initialize and train a RandomForestRegressor model\n",
    "model = RandomForestRegressor(random_state=42, n_estimators = 100) # You can adjust hyperparameters\n",
    "model.fit(X_train, y_train)\n",
    "\n",
    "# Make predictions on the test set\n",
    "y_pred = model.predict(X_test)\n",
    "\n",
    "# Evaluate the model\n",
    "mse = mean_squared_error(y_test, y_pred)\n",
    "print(f\"Mean Squared Error: {mse}\")\n",
    "\n",
    "# Feature importance\n",
    "feature_importances = pd.Series(model.feature_importances_, index=X.columns)\n",
    "feature_importances_sorted = feature_importances.sort_values(ascending=False)\n",
    "print(\"\\nFeature Importance:\")\n",
    "feature_importances_sorted"
   ],
   "outputs": []
  },
  {
   "cell_type": "code",
   "execution_count": 4,
   "metadata": {
    "colab": {
     "base_uri": "https://localhost:8080/",
     "height": 607
    },
    "id": "QsgGpBkevVYQ",
    "outputId": "5ddedb59-44ee-44b2-9c65-8266e0cc8fb0"
   },
   "source": [
    "plt.figure(figsize=(10, 6))  # Adjust figure size as needed\n",
    "top_20_features = feature_importances_sorted.head(20)[::-1]\n",
    "\n",
    "# Create dotted lines and circles for each feature\n",
    "for feature, importance in top_20_features.items():\n",
    "    # plt.plot([0, importance], [feature, feature], linestyle='dotted', marker='o', markersize=5)\n",
    "    plt.plot([importance], [feature], linestyle='dotted', marker='o', markersize=5, c='blue')\n",
    "    plt.plot([0, importance], [feature, feature], linestyle='dotted', marker='None', markersize=5, c='lightblue')\n",
    "\n",
    "plt.xlabel(\"Importance\")\n",
    "plt.ylabel(f\"Bacterial {tax}\")\n",
    "plt.title(f\"Top 20 Bacterial {tax} that predict FEV1 Ratio Score\")\n",
    "plt.tight_layout()  # Adjust layout to prevent labels from overlapping\n",
    "plt.show()"
   ],
   "outputs": []
  },
  {
   "cell_type": "markdown",
   "metadata": {
    "id": "TyfqsptQ28ts"
   },
   "source": [
    "## Predict FEV1 Ratio Score Using Pathogenic Bacteria"
   ]
  },
  {
   "cell_type": "code",
   "execution_count": 5,
   "metadata": {
    "colab": {
     "base_uri": "https://localhost:8080/",
     "height": 624
    },
    "id": "jW_GHdz2xWjY",
    "outputId": "e82af461-1fbf-4bb7-f18d-68e7ca98beb9"
   },
   "source": [
    "# Merge the dataframes\n",
    "merged_df = df.join(metadata[['FEV1_RATIO_SCORE']])\n",
    "\n",
    "# this data set models just the pathogens\n",
    "X = merged_df[list(cf_analysis_lib.pathogens)] # Features (bacteria counts)\n",
    "y = merged_df['FEV1_RATIO_SCORE'] # Target variable\n",
    "\n",
    "# this data set models all bacteria\n",
    "#X = merged_df.drop('FEV1_RATIO_SCORE', axis=1)\n",
    "#y = merged_df['FEV1_RATIO_SCORE']\n",
    "\n",
    "# Handle missing values (if any) - replace with mean for simplicity\n",
    "X = X.fillna(X.mean())\n",
    "y = y.fillna(y.mean())\n",
    "\n",
    "# Split the data into training and testing sets\n",
    "X_train, X_test, y_train, y_test = train_test_split(X, y, test_size=0.2, random_state=42)\n",
    "\n",
    "# Initialize and train a RandomForestRegressor model\n",
    "model = RandomForestRegressor(random_state=42, n_estimators = 100) # You can adjust hyperparameters\n",
    "model.fit(X_train, y_train)\n",
    "\n",
    "# Make predictions on the test set\n",
    "y_pred = model.predict(X_test)\n",
    "\n",
    "# Evaluate the model\n",
    "mse = mean_squared_error(y_test, y_pred)\n",
    "print(f\"Mean Squared Error: {mse}\")\n",
    "\n",
    "# Feature importance\n",
    "feature_importances = pd.DataFrame(model.feature_importances_, index=X.columns, columns=['importance'])\n",
    "feature_importances_sorted = feature_importances.sort_values(by='importance', ascending=False)\n",
    "\n",
    "plt.figure(figsize=(10, 6))  # Adjust figure size as needed\n",
    "# Create dotted lines and circles for each feature\n",
    "for feature in feature_importances_sorted.index[::-1]:\n",
    "    importance = feature_importances_sorted.loc[feature, 'importance']\n",
    "    plt.plot([importance], [feature], linestyle='dotted', marker='o', markersize=5, c='blue')\n",
    "    plt.plot([0, importance], [feature, feature], linestyle='dotted', marker='None', markersize=5, c='lightblue')\n",
    "\n",
    "plt.xlabel(\"Importance\")\n",
    "plt.ylabel(f\"Bacterial {tax}\")\n",
    "plt.title(f\"Top 20 Bacterial {tax} that predict FEV1 Ratio Score\")\n",
    "plt.tight_layout()  # Adjust layout to prevent labels from overlapping\n",
    "plt.show()"
   ],
   "outputs": []
  },
  {
   "cell_type": "markdown",
   "metadata": {
    "id": "pHLj-8ao3C_2"
   },
   "source": [
    "# Predict FEV1 using pathogenic bacteria"
   ]
  },
  {
   "cell_type": "code",
   "execution_count": 6,
   "metadata": {
    "colab": {
     "base_uri": "https://localhost:8080/",
     "height": 642
    },
    "id": "VRt8Y4wX1bOS",
    "outputId": "593444d6-c5f5-4fce-c053-cb2107b2c1b5"
   },
   "source": [
    "# Merge the dataframes\n",
    "intcol = 'FEV1/best FEV1' # interesting column!\n",
    "merged_df = df.join(metadata[[intcol]])\n",
    "\n",
    "# this data set models all bacteria\n",
    "X = merged_df.drop(intcol, axis=1)\n",
    "y = merged_df[intcol]\n",
    "\n",
    "# Handle missing values (if any) - replace with mean for simplicity\n",
    "X = X.fillna(X.mean())\n",
    "y = y.fillna(y.mean())\n",
    "\n",
    "X_train, X_test, y_train, y_test = train_test_split(X, y, test_size=0.2, random_state=42)\n",
    "model = RandomForestRegressor(random_state=42, n_estimators = 1000)\n",
    "model.fit(X_train, y_train)\n",
    "y_pred = model.predict(X_test)\n",
    "\n",
    "# Evaluate the model\n",
    "mse = mean_squared_error(y_test, y_pred)\n",
    "print(f\"Mean Squared Error for all bacteria: {mse}\")\n",
    "\n",
    "# Feature importance\n",
    "feature_importances = pd.DataFrame(model.feature_importances_, index=X.columns, columns=['importance'])\n",
    "feature_importances_sorted = feature_importances.sort_values(by='importance', ascending=False)\n",
    "\n",
    "fig, axes = plt.subplots(figsize=(10,6), nrows=1, ncols=2)\n",
    "\n",
    "# Create dotted lines and circles for each feature\n",
    "for feature in feature_importances_sorted.index[:20][::-1]:\n",
    "    importance = feature_importances_sorted.loc[feature, 'importance']\n",
    "    axes[0].plot([importance], [feature], linestyle='dotted', marker='o', markersize=5, c='blue')\n",
    "    axes[0].plot([0, importance], [feature, feature], linestyle='dotted', marker='None', markersize=5, c='lightblue')\n",
    "\n",
    "axes[0].set_xlabel(\"Importance\")\n",
    "axes[0].set_ylabel(f\"Bacterial {tax}\")\n",
    "axes[0].set_title(f\"Top 20 Bacteria (all) that predict {intcol}\")\n",
    "\n",
    "\n",
    "\n",
    "\n",
    "\n",
    "# this data set models just the pathogens\n",
    "X = merged_df[list(pathogens)] # Features (bacteria counts)\n",
    "y = merged_df[intcol] # Target variable\n",
    "\n",
    "# this data set models all bacteria\n",
    "#X = merged_df.drop(intcol, axis=1)\n",
    "#y = merged_df[intcol]\n",
    "\n",
    "# Handle missing values (if any) - replace with mean for simplicity\n",
    "X = X.fillna(X.mean())\n",
    "y = y.fillna(y.mean())\n",
    "\n",
    "# Split the data into training and testing sets\n",
    "X_train, X_test, y_train, y_test = train_test_split(X, y, test_size=0.2, random_state=42)\n",
    "model.fit(X_train, y_train)\n",
    "y_pred = model.predict(X_test)\n",
    "\n",
    "# Evaluate the model\n",
    "mse = mean_squared_error(y_test, y_pred)\n",
    "print(f\"Mean Squared Error for pathogenic bacteria: {mse}\")\n",
    "\n",
    "# Feature importance\n",
    "feature_importances = pd.DataFrame(model.feature_importances_, index=X.columns, columns=['importance'])\n",
    "feature_importances_sorted = feature_importances.sort_values(by='importance', ascending=False)\n",
    "\n",
    "# Create dotted lines and circles for each feature\n",
    "for feature in feature_importances_sorted.index[::-1]:\n",
    "    importance = feature_importances_sorted.loc[feature, 'importance']\n",
    "    axes[1].plot([importance], [feature], linestyle='dotted', marker='o', markersize=5, c='blue')\n",
    "    axes[1].plot([0, importance], [feature, feature], linestyle='dotted', marker='None', markersize=5, c='lightblue')\n",
    "\n",
    "axes[1].set_xlabel(\"Importance\")\n",
    "axes[1].set_ylabel(f\"Bacterial {tax}\")\n",
    "axes[1].set_title(f\"Top 20 pathogenic {tax} that predict {intcol}\")\n",
    "\n",
    "\n",
    "\n",
    "plt.tight_layout()\n",
    "plt.show()"
   ],
   "outputs": []
  },
  {
   "cell_type": "code",
   "execution_count": 7,
   "metadata": {
    "colab": {
     "base_uri": "https://localhost:8080/",
     "height": 105
    },
    "id": "q0YHZGSrzybs",
    "outputId": "8eaaf0b6-39fa-4839-d509-006f4396ff68"
   },
   "source": [
    "\"', '\".join(list(metadata.columns))"
   ],
   "outputs": []
  },
  {
   "cell_type": "code",
   "execution_count": 8,
   "metadata": {
    "colab": {
     "base_uri": "https://localhost:8080/",
     "height": 1000
    },
    "id": "ZOvx_6dr2JBW",
    "outputId": "8690964e-b986-4fae-f168-c59ac68fa9b5"
   },
   "source": [
    "allintcols = ['IP vs OP', 'Hospital', 'Room', 'Age', 'Age groups', 'Paediatric vs Adult', 'Gender',\n",
    "              'H2_Corrected', 'CH4_Corrected', 'CH4/H2 ratio_corrected', 'NTM', 'Pseudomonas Culture',\n",
    "              'IgE', 'Spec IgE', 'Spec IgG', 'Precipitins', 'FVC', 'FEV1', 'Best FEV1', 'FEV1/best FEV1',\n",
    "              'FEV1_RATIO_SCORE', 'FEV1_Obstruction_Rank', 'Cystic Fibrosis related diabetes (CFRD)',\n",
    "              'Pancreatic insufficiency (PI)']\n",
    "\n",
    "fig, axes = plt.subplots(figsize=(20,40), nrows=6, ncols=4)\n",
    "model = RandomForestRegressor(random_state=42, n_estimators = 1000)\n",
    "label_encoder = LabelEncoder()\n",
    "\n",
    "for i, intcol in enumerate(allintcols):\n",
    "  ax = axes[i//4, i%4]\n",
    "\n",
    "  if metadata[intcol].dtype == 'object':\n",
    "    m = metadata[[intcol]].copy()\n",
    "    m[\"enc\"] = label_encoder.fit_transform(m[intcol])\n",
    "    merged_df = df.join(m[[\"enc\"]].dropna(), how='inner')\n",
    "    merged_df = merged_df.rename(columns={\"enc\": intcol})\n",
    "  else:\n",
    "    merged_df = df.join(metadata[[intcol]].dropna(), how='inner')\n",
    "\n",
    "\n",
    "\n",
    "  # this data set models just the pathogens\n",
    "  X = merged_df[list(pathogens)] # Features (bacteria counts)\n",
    "  y = merged_df[intcol] # Target variable\n",
    "\n",
    "  X_train, X_test, y_train, y_test = train_test_split(X, y, test_size=0.2, random_state=42)\n",
    "  model.fit(X_train, y_train)\n",
    "  y_pred = model.predict(X_test)\n",
    "\n",
    "  accuracy = model.score(X_test, y_test)\n",
    "  print(f\"Model Accuracy for using pathogenic bacteria to predict {intcol}: {accuracy:.2f}\")\n",
    "\n",
    "  mse = mean_squared_error(y_test, y_pred)\n",
    "  print(f\"Mean Squared Error for using pathogenic bacteria to predict {intcol}: {mse:.2f}\")\n",
    "\n",
    "\n",
    "\n",
    "  # Feature importance\n",
    "  # This is the default method\n",
    "  # feature_importances = pd.DataFrame(model.feature_importances_, index=X.columns, columns=['importance'])\n",
    "  # this alternative method uses the permutation importance which _should_ be comparable across models?\n",
    "  pimmse = permutation_importance(model, X_test, y_test, scoring='neg_mean_squared_error')\n",
    "  pim = permutation_importance(model, X_test, y_test, scoring='accuracy', random_state=42)\n",
    "  print(f\"Permutation importance Using MSE: {pimmse} Using accuracy: {pim}\")\n",
    "  feature_importances = pd.DataFrame(pim.importances_mean, index=X.columns, columns=['importance'])\n",
    "  feature_importances_sorted = feature_importances.sort_values(by='importance', ascending=False)\n",
    "\n",
    "  # Create dotted lines and circles for each feature\n",
    "  for feature in feature_importances_sorted.index[:20][::-1]:\n",
    "      importance = feature_importances_sorted.loc[feature, 'importance']\n",
    "      ax.plot([importance], [feature], linestyle='dotted', marker='o', markersize=5, c='blue')\n",
    "      ax.plot([0, importance], [feature, feature], linestyle='dotted', marker='None', markersize=5, c='lightblue')\n",
    "\n",
    "  ax.set_xlabel(\"Importance\")\n",
    "  ax.set_ylabel(f\"Bacterial {tax}\")\n",
    "  ax.set_title(f\"{intcol} (MSE: {mse:.3f})\")\n",
    "\n",
    "\n",
    "plt.tight_layout()\n",
    "plt.show()\n"
   ],
   "outputs": []
  },
  {
   "cell_type": "markdown",
   "metadata": {
    "id": "LDwxonPC9j-H"
   },
   "source": [
    "## Testing permutation importance using _Pseudomonas_"
   ]
  },
  {
   "cell_type": "code",
   "execution_count": null,
   "metadata": {
    "colab": {
     "base_uri": "https://localhost:8080/",
     "height": 642
    },
    "id": "2kQa0n9NPi-o",
    "outputId": "16285923-3a16-408b-a3eb-80fd6076b4da"
   },
   "source": [
    "# Merge the dataframes\n",
    "intcol = 'Pseudomonas Culture' # interesting column!\n",
    "merged_df = df.join(metadata[[intcol]].astype('category').dropna())\n",
    "\n",
    "X = merged_df[list(pathogens)]\n",
    "y = merged_df[intcol].cat.codes\n",
    "\n",
    "# this data set models all bacteria\n",
    "#X = merged_df.drop(intcol, axis=1\n",
    "\n",
    "# Handle missing values (if any) - replace with mean for simplicity\n",
    "X = X.fillna(X.mean())\n",
    "y = y.fillna(y.mean())\n",
    "X_train, X_test, y_train, y_test = train_test_split(X, y, test_size=0.2, random_state=42)\n",
    "model = RandomForestRegressor(random_state=42, n_estimators = 1000)\n",
    "model.fit(X_train, y_train)\n",
    "y_pred = model.predict(X_test)\n",
    "\n",
    "# Evaluate the model\n",
    "mse = mean_squared_error(y_test, y_pred)\n",
    "print(f\"Mean Squared Error for all bacteria: {mse}\")\n",
    "\n",
    "accuracy = model.score(X_test, y_test)\n",
    "print(f\"Model Accuracy for using pathogenic bacteria to predict {intcol}: {accuracy:.2f}\")\n",
    "\n",
    "\n",
    "fig, axes = plt.subplots(figsize=(10,6), nrows=1, ncols=3)\n",
    "\n",
    "# Feature importance\n",
    "feature_importances = pd.DataFrame(model.feature_importances_, index=X.columns, columns=['importance'])\n",
    "feature_importances_sorted = feature_importances.sort_values(by='importance', ascending=False)\n",
    "\n",
    "# Create dotted lines and circles for each feature\n",
    "for feature in feature_importances_sorted.index[::-1]:\n",
    "    importance = feature_importances_sorted.loc[feature, 'importance']\n",
    "    axes[0].plot([importance], [feature], linestyle='dotted', marker='o', markersize=5, c='blue')\n",
    "    axes[0].plot([0, importance], [feature, feature], linestyle='dotted', marker='None', markersize=5, c='lightblue')\n",
    "\n",
    "axes[0].set_xlabel(\"Importance\")\n",
    "axes[0].set_ylabel(f\"Bacterial {tax}\")\n",
    "axes[0].set_title(f\"model.feature_importances_\")\n",
    "\n",
    "# permutation importance\n",
    "\n",
    "pim = permutation_importance(model, X_test, y_test, scoring='neg_mean_squared_error')\n",
    "feature_importances = pd.DataFrame(pim.importances_mean, index=X.columns, columns=['importance'])\n",
    "feature_importances_sorted = feature_importances.sort_values(by='importance', ascending=False)\n",
    "\n",
    "# Create dotted lines and circles for each feature\n",
    "for feature in feature_importances_sorted.index[::-1]:\n",
    "    importance = feature_importances_sorted.loc[feature, 'importance']\n",
    "    axes[1].plot([importance], [feature], linestyle='dotted', marker='o', markersize=5, c='blue')\n",
    "    axes[1].plot([feature_importances_sorted.min()[0], importance], [feature, feature], linestyle='dotted', marker='None', markersize=5, c='lightblue')\n",
    "\n",
    "axes[1].set_xlabel(\"Importance\")\n",
    "axes[1].set_ylabel(f\"Bacterial {tax}\")\n",
    "axes[1].set_title(f\"PI: neg mse\")\n",
    "\n",
    "\n",
    "# permutation importance\n",
    "\n",
    "\n",
    "pim = permutation_importance(model, X_test, y_test, scoring='d2_absolute_error_score', random_state=42)\n",
    "feature_importances = pd.DataFrame(pim.importances_mean, index=X.columns, columns=['importance'])\n",
    "feature_importances_sorted = feature_importances.sort_values(by='importance', ascending=False)\n",
    "\n",
    "# Create dotted lines and circles for each feature\n",
    "for feature in feature_importances_sorted.index[::-1]:\n",
    "    importance = feature_importances_sorted.loc[feature, 'importance']\n",
    "    axes[2].plot([importance], [feature], linestyle='dotted', marker='o', markersize=5, c='blue')\n",
    "    axes[2].plot([0, importance], [feature, feature], linestyle='dotted', marker='None', markersize=5, c='lightblue')\n",
    "\n",
    "axes[2].set_xlabel(\"Importance\")\n",
    "axes[2].set_ylabel(f\"Bacterial {tax}\")\n",
    "axes[2].set_title(f\"PI: accuracy\")\n",
    "\n",
    "plt.tight_layout()\n",
    "plt.show()"
   ],
   "outputs": []
  },
  {
   "cell_type": "markdown",
   "metadata": {
    "id": "BXQRpf91IkFh"
   },
   "source": [
    "# Random Forest Classifier\n",
    "\n",
    "The above is with a _REGRESSOR_ not a classifier"
   ]
  },
  {
   "cell_type": "code",
   "execution_count": 9,
   "metadata": {
    "colab": {
     "base_uri": "https://localhost:8080/",
     "height": 642
    },
    "id": "gZyLJmLTIj2A",
    "outputId": "5f50a39f-bafc-4d1d-d417-86c5c08c4d26"
   },
   "source": [
    "# Merge the dataframes\n",
    "intcol = 'Pseudomonas Culture' # interesting column!\n",
    "merged_df = df.join(metadata[[intcol]].astype('category').dropna())\n",
    "\n",
    "X = merged_df[list(pathogens)]\n",
    "y = merged_df[intcol]\n",
    "\n",
    "# this data set models all bacteria\n",
    "#X = merged_df.drop(intcol, axis=1\n",
    "\n",
    "# Handle missing values (if any) - replace with mean for simplicity\n",
    "X = X.fillna(X.mean())\n",
    "y = y.fillna(y.mean())\n",
    "X_train, X_test, y_train, y_test = train_test_split(X, y, test_size=0.2, random_state=42)\n",
    "model = RandomForestClassifier(random_state=42, n_estimators = 1000)\n",
    "model.fit(X_train, y_train)\n",
    "y_pred = model.predict(X_test)\n",
    "\n",
    "# Evaluate the model\n",
    "mse = mean_squared_error(y_test, y_pred)\n",
    "print(f\"Mean Squared Error for all bacteria: {mse}\")\n",
    "\n",
    "accuracy = model.score(X_test, y_test)\n",
    "print(f\"Model Accuracy for using pathogenic bacteria to predict {intcol}: {accuracy:.2f}\")\n",
    "\n",
    "\n",
    "fig, axes = plt.subplots(figsize=(10,6), nrows=1, ncols=3)\n",
    "\n",
    "# Feature importance\n",
    "feature_importances = pd.DataFrame(model.feature_importances_, index=X.columns, columns=['importance'])\n",
    "feature_importances_sorted = feature_importances.sort_values(by='importance', ascending=False)\n",
    "\n",
    "# Create dotted lines and circles for each feature\n",
    "for feature in feature_importances_sorted.index[::-1]:\n",
    "    importance = feature_importances_sorted.loc[feature, 'importance']\n",
    "    axes[0].plot([importance], [feature], linestyle='dotted', marker='o', markersize=5, c='blue')\n",
    "    axes[0].plot([0, importance], [feature, feature], linestyle='dotted', marker='None', markersize=5, c='lightblue')\n",
    "\n",
    "axes[0].set_xlabel(\"Importance\")\n",
    "axes[0].set_ylabel(f\"Bacterial {tax}\")\n",
    "axes[0].set_title(f\"model.feature_importances_\")\n",
    "\n",
    "# permutation importance\n",
    "\n",
    "pim = permutation_importance(model, X_test, y_test, scoring='neg_mean_squared_error')\n",
    "feature_importances = pd.DataFrame(pim.importances_mean, index=X.columns, columns=['importance'])\n",
    "feature_importances_sorted = feature_importances.sort_values(by='importance', ascending=False)\n",
    "\n",
    "# Create dotted lines and circles for each feature\n",
    "for feature in feature_importances_sorted.index[::-1]:\n",
    "    importance = feature_importances_sorted.loc[feature, 'importance']\n",
    "    axes[1].plot([importance], [feature], linestyle='dotted', marker='o', markersize=5, c='blue')\n",
    "    axes[1].plot([feature_importances_sorted.min()[0], importance], [feature, feature], linestyle='dotted', marker='None', markersize=5, c='lightblue')\n",
    "\n",
    "axes[1].set_xlabel(\"Importance\")\n",
    "axes[1].set_ylabel(f\"Bacterial {tax}\")\n",
    "axes[1].set_title(f\"PI: neg mse\")\n",
    "\n",
    "\n",
    "# permutation importance\n",
    "\n",
    "\n",
    "pim = permutation_importance(model, X_test, y_test, scoring='accuracy', random_state=42)\n",
    "feature_importances = pd.DataFrame(pim.importances_mean, index=X.columns, columns=['importance'])\n",
    "feature_importances_sorted = feature_importances.sort_values(by='importance', ascending=False)\n",
    "\n",
    "# Create dotted lines and circles for each feature\n",
    "for feature in feature_importances_sorted.index[::-1]:\n",
    "    importance = feature_importances_sorted.loc[feature, 'importance']\n",
    "    axes[2].plot([importance], [feature], linestyle='dotted', marker='o', markersize=5, c='blue')\n",
    "    axes[2].plot([0, importance], [feature, feature], linestyle='dotted', marker='None', markersize=5, c='lightblue')\n",
    "\n",
    "axes[2].set_xlabel(\"Importance\")\n",
    "axes[2].set_ylabel(f\"Bacterial {tax}\")\n",
    "axes[2].set_title(f\"PI: accuracy\")\n",
    "\n",
    "plt.tight_layout()\n",
    "plt.show()"
   ],
   "outputs": []
  },
  {
   "cell_type": "code",
   "execution_count": null,
   "metadata": {
    "id": "tIZhktbBQnqr"
   },
   "source": [
    "print(y.unique())  # Check the unique values in the target\n",
    "print(y.dtypes)"
   ],
   "outputs": []
  },
  {
   "cell_type": "code",
   "execution_count": null,
   "metadata": {
    "id": "VldfexdjQqXF"
   },
   "source": [],
   "outputs": []
  },
  {
   "cell_type": "code",
   "execution_count": null,
   "metadata": {
    "id": "kaGug-WjRHV5"
   },
   "source": [
    "y"
   ],
   "outputs": []
  },
  {
   "cell_type": "code",
   "execution_count": null,
   "metadata": {
    "id": "UMkHFuyJwm45"
   },
   "source": [
    "feature_importances"
   ],
   "outputs": []
  },
  {
   "cell_type": "code",
   "execution_count": null,
   "metadata": {
    "id": "LsWWgd27woW3"
   },
   "source": [],
   "outputs": []
  }
 ],
 "metadata": {
  "colab": {
   "provenance": []
  },
  "kernelspec": {
   "display_name": "Python 3 (ipykernel)",
   "language": "python",
   "name": "python3"
  },
  "language_info": {
   "codemirror_mode": {
    "name": "ipython",
    "version": 3
   },
   "file_extension": ".py",
   "mimetype": "text/x-python",
   "name": "python",
   "nbconvert_exporter": "python",
   "pygments_lexer": "ipython3",
   "version": "3.9.5"
  }
 },
 "nbformat": 4,
 "nbformat_minor": 4
}
