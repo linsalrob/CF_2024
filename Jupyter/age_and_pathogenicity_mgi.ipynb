{
 "cells": [
  {
   "cell_type": "markdown",
   "metadata": {
    "id": "view-in-github",
    "colab_type": "text"
   },
   "source": [
    "<a href=\"https://colab.research.google.com/github/linsalrob/CF_Data_Analysis/blob/main/Jupyter/age_and_pathogenicity.ipynb\" target=\"_parent\"><img src=\"https://colab.research.google.com/assets/colab-badge.svg\" alt=\"Open In Colab\"/></a>"
   ],
   "id": "b1ba3f30325657a3"
  },
  {
   "cell_type": "markdown",
   "id": "e3b0b108-a0c8-4e95-a400-23e46edeee75",
   "metadata": {
    "id": "e3b0b108-a0c8-4e95-a400-23e46edeee75"
   },
   "source": [
    "# Age and Pathogenicity\n",
    "\n",
    "It seems that older people have more pathogens.\n",
    "\n",
    "Do they? Can we separate that from hospital effects?"
   ]
  },
  {
   "cell_type": "markdown",
   "id": "12572a11-7b93-452a-be73-7f34adde0a19",
   "metadata": {
    "id": "12572a11-7b93-452a-be73-7f34adde0a19"
   },
   "source": [
    "## Repeat the initial observation\n",
    "\n",
    "I showed this in the mgi_metadata_pcas.ipynb notebook, but we also showed it elsewhere"
   ]
  },
  {
   "cell_type": "code",
   "execution_count": 1,
   "id": "441c63b9-2ad4-4cb4-8457-7d2ebfb7c77c",
   "metadata": {
    "colab": {
     "base_uri": "https://localhost:8080/"
    },
    "id": "441c63b9-2ad4-4cb4-8457-7d2ebfb7c77c",
    "outputId": "4b25caa8-6644-4af4-b2f6-5416ecb0e04d"
   },
   "source": [
    "import os\n",
    "import sys\n",
    "\n",
    "import re\n",
    "import numpy as np\n",
    "import matplotlib.pyplot as plt\n",
    "from matplotlib.collections import PatchCollection\n",
    "from matplotlib.colors import ListedColormap\n",
    "import matplotlib.dates as mdates\n",
    "import pandas as pd\n",
    "import seaborn as sns\n",
    "import json\n",
    "\n",
    "from itertools import cycle\n",
    "\n",
    "from sklearn.decomposition import PCA\n",
    "from sklearn.preprocessing import StandardScaler\n",
    "\n",
    "from scipy.stats import linregress\n",
    "\n",
    "\n",
    "# there is a FutureWarning in sklearn StandardScalar which is really annoying. This ignores it.\n",
    "import warnings\n",
    "warnings.simplefilter(action='ignore', category=FutureWarning)\n",
    "\n",
    "try:\n",
    "  import google.colab\n",
    "  IN_COLAB = True\n",
    "  !pip install adjustText\n",
    "except ImportError:\n",
    "  IN_COLAB = False\n",
    "\n",
    "from adjustText import adjust_text"
   ],
   "outputs": []
  },
  {
   "cell_type": "code",
   "source": [
    "if IN_COLAB:\n",
    "  from google.colab import drive\n",
    "  drive.mount('/content/drive')\n",
    "  datadir = '/content/drive/MyDrive/Projects/CF/Adelaide/CF_Data_Analysis'\n",
    "else:\n",
    "  datadir = '..'"
   ],
   "metadata": {
    "colab": {
     "base_uri": "https://localhost:8080/"
    },
    "id": "6am5oufpV53v",
    "outputId": "93aa4c0b-f84c-4dc4-9e19-0e2be28043b6"
   },
   "id": "6am5oufpV53v",
   "execution_count": 2,
   "outputs": []
  },
  {
   "cell_type": "markdown",
   "id": "648f6749-9341-45b4-9a93-ed3d52193ce6",
   "metadata": {
    "id": "648f6749-9341-45b4-9a93-ed3d52193ce6"
   },
   "source": [
    "## Set up the functions"
   ]
  },
  {
   "cell_type": "code",
   "execution_count": 3,
   "id": "c28ae874-d8fe-411b-8061-2e8322ec527c",
   "metadata": {
    "id": "c28ae874-d8fe-411b-8061-2e8322ec527c"
   },
   "source": [
    "corrections = {\n",
    "    \"MGI\" : {\n",
    "        '1112926_20171212_S' : '1447437_20171212_S',\n",
    "        '1128691_20170206_S' : '1128691_20171206_S',\n",
    "        '1255498_20171212_S' : '1590009_20171212_S',\n",
    "        '1316979_20171215_S' : '1651490_20171215_S',\n",
    "        '1598281_20180508_S' : '1588281_20180508_S',\n",
    "        '1723809_20180227_S' : '1085876_20180227_S',\n",
    "        '649354_20170206_S' : '639354_20171206_S',\n",
    "        '652927_20180226_S' : '715927_20180226_S',\n",
    "        '658355_20180301_S' : '658355_20180327_S',\n",
    "        '777851_20170918_S' : '778851_20170918_S',\n",
    "        '788707_20181126_S' : '788707_20181129_S'\n",
    "    },\n",
    "    \"minion\" : {\n",
    "        '1112926_20171212_S' : '1447437_20171212_S',\n",
    "        '1255498_20171212_S' : '1590009_20171212_S',\n",
    "        '1316979_20171215_S' : '1651490_20171215_S',\n",
    "        '1598281_20180508_S' : '1588281_20180508_S',\n",
    "        '698917_20190119_S' : '698917_20180119_S'\n",
    "        }\n",
    "}\n",
    "\n",
    "pathogens = {\n",
    "    \"Streptococcus\",\n",
    "    \"Staphylococcus\",\n",
    "    \"Haemophilus\",\n",
    "    \"Mycobacterium\",\n",
    "    \"Pseudomonas\",\n",
    "    \"Klebsiella\",\n",
    "    \"Moraxella\",\n",
    "    \"Bordetella\",\n",
    "    \"Legionella\",\n",
    "    \"Corynebacterium\",\n",
    "    \"Chlamydia\",\n",
    "    \"Mycoplasma\",\n",
    "    \"Neisseria\",\n",
    "    \"Burkholderia\",\n",
    "    \"Acinetobacter\",\n",
    "    \"Francisella\",\n",
    "    \"Escherichia\",\n",
    "    \"Pasteurella\",\n",
    "    \"Nocardia\",\n",
    "    \"Actinomyces\"\n",
    "}\n",
    "\n",
    "def read_taxonomy(tax_file, firstchar, sequence_type):\n",
    "    \"\"\"\n",
    "    Read the taxonomy file and return a data frame\n",
    "    \"\"\"\n",
    "\n",
    "    if sequence_type.lower() == 'mgi':\n",
    "        sequence_type = 'MGI'\n",
    "    elif sequence_type.lower() == 'minion':\n",
    "        sequence_type = 'minion'\n",
    "    else:\n",
    "        print(f\"Sorry. Don't know what {sequence_type} is supposed to be\", sys.stderr)\n",
    "        return None\n",
    "\n",
    "    df = pd.read_csv(tax_file, sep='\\t', compression='gzip')\n",
    "    df = df[df['taxonomy'].str.contains('k__Bacteria')]\n",
    "    df = df[~df['taxonomy'].str.endswith(f'{firstchar}__')]\n",
    "    df = df.set_index('taxonomy')\n",
    "    df = df.rename(columns=corrections[sequence_type])\n",
    "    df.index = df.index.str.replace(f'{firstchar}__', '').str.replace('Candidatus ', '')\n",
    "    df.index = df.index.str.split(';').str[-1]\n",
    "\n",
    "    df = df.sort_index(axis=1)\n",
    "    return df\n",
    "\n",
    "def read_metadata(sequence_type):\n",
    "    if sequence_type.lower() == 'mgi':\n",
    "        sequence_type = 'MGI'\n",
    "    elif sequence_type.lower() == 'minion':\n",
    "        sequence_type = 'minion'\n",
    "    else:\n",
    "        print(f\"Sorry. Don't know what {sequence_type} is supposed to be\", sys.stderr)\n",
    "        return None\n",
    "\n",
    "    metadata = pd.read_csv(os.path.join(datadir, \"Metadata/Metadata.txt\"), encoding='windows-1252', sep=\"\\t\", index_col=0)\n",
    "    metadata = metadata[~metadata[sequence_type].isna()]\n",
    "\n",
    "    for ix in metadata.index:\n",
    "        s = metadata.loc[ix, sequence_type]\n",
    "        if s in corrections[sequence_type]:\n",
    "            metadata.loc[ix, sequence_type] = corrections[sequence_type][s]\n",
    "    return metadata\n",
    "\n",
    "def sorted_presence_absence(df1, df2, minrowsum=0, asc_sort=False):\n",
    "    \"\"\"\n",
    "    Join the two tables and return the sorted version\n",
    "    \"\"\"\n",
    "    # filter so we only include samples sequenced on both MGI and MinION\n",
    "    common_columns = df1.columns.intersection(df2.columns)\n",
    "    df1_both = df1[common_columns]\n",
    "    df2_both = df2[common_columns]\n",
    "\n",
    "    # create a presence/absence matrix\n",
    "    df1_presence = (df1_both > 0).astype(int)\n",
    "    df2_presence = (df2_both > 0).astype(int)*2\n",
    "\n",
    "    # here we filter on the minimum number of columns each taxa is in if requested\n",
    "    if minrowsum > 0:\n",
    "        df1_presence = df1_presence.loc[df1_presence[df1_presence.sum(axis=1) > minrowsum].index]\n",
    "        df2_presence = df2_presence.loc[df2_presence[df2_presence.sum(axis=1) > (2 * minrowsum)].index]\n",
    "\n",
    "    # combine the two matrices and sort them\n",
    "    both = df1_presence.add(df2_presence, fill_value=0)\n",
    "    sboth = both.loc[both.sum(axis=1).sort_values(ascending=asc_sort).index]\n",
    "    sboth = sboth.sort_index(axis=1) # sort by column names\n",
    "\n",
    "    return sboth"
   ],
   "outputs": []
  },
  {
   "cell_type": "markdown",
   "id": "79147502-d7e8-4f69-ab11-5b641f49d22f",
   "metadata": {
    "id": "79147502-d7e8-4f69-ab11-5b641f49d22f"
   },
   "source": [
    "## Load the data"
   ]
  },
  {
   "cell_type": "code",
   "execution_count": 4,
   "id": "6c60295e-1fae-4212-8b3c-87e54c35fb77",
   "metadata": {
    "id": "6c60295e-1fae-4212-8b3c-87e54c35fb77"
   },
   "source": [
    "tax='genus'\n",
    "# read the data\n",
    "\n",
    "mgi_df = read_taxonomy(os.path.join(datadir, f\"MGI/Taxonomy/MGI_reads_{tax}.normalised.tsv.gz\"), tax[0], \"mgi\")\n",
    "min_df = read_taxonomy(os.path.join(datadir, f\"MinION/Taxonomy/Minion_read_based_annotations_{tax}.normalised.tsv.gz\"), tax[0], \"minion\")\n",
    "mgi_metadata = read_metadata(\"MGI\")\n",
    "minion_metadata = read_metadata(\"minion\")\n",
    "sequence_type = \"MGI\"\n",
    "# sequence_type = \"minion\"\n",
    "\n",
    "if sequence_type == \"MGI\":\n",
    "    df = mgi_df\n",
    "    metadata = mgi_metadata\n",
    "else:\n",
    "    df = min_df\n",
    "    metadata = minion_metadata\n",
    "\n",
    "metadata = metadata[~metadata[sequence_type].isna()]"
   ],
   "outputs": []
  },
  {
   "cell_type": "code",
   "execution_count": 5,
   "id": "c3223162-65c6-4143-8dc8-3d158c256be2",
   "metadata": {
    "colab": {
     "base_uri": "https://localhost:8080/",
     "height": 475
    },
    "id": "c3223162-65c6-4143-8dc8-3d158c256be2",
    "outputId": "21ab0bbe-9d75-4f4d-fda5-166308562936"
   },
   "source": [
    "df"
   ],
   "outputs": []
  },
  {
   "cell_type": "code",
   "execution_count": 6,
   "id": "c2ffa341-748d-4ab3-84e4-b7d15bb43eec",
   "metadata": {
    "colab": {
     "base_uri": "https://localhost:8080/",
     "height": 475
    },
    "id": "c2ffa341-748d-4ab3-84e4-b7d15bb43eec",
    "outputId": "bb49261d-8042-448d-dadf-0c3fb3497b96"
   },
   "source": [
    "df['pathogen'] = df.index.isin(pathogens)\n",
    "df"
   ],
   "outputs": []
  },
  {
   "cell_type": "markdown",
   "id": "0c956e2b-5b88-4af8-b4de-a898cd9e68f5",
   "metadata": {
    "id": "0c956e2b-5b88-4af8-b4de-a898cd9e68f5"
   },
   "source": [
    "## Calculate the proportion of bacteria per pwCF that are pathogenic"
   ]
  },
  {
   "cell_type": "code",
   "execution_count": 7,
   "id": "a01ec9f1-ae5e-49d9-afc0-6547c1932338",
   "metadata": {
    "colab": {
     "base_uri": "https://localhost:8080/",
     "height": 424
    },
    "id": "a01ec9f1-ae5e-49d9-afc0-6547c1932338",
    "outputId": "3efba058-0f1d-4c90-a83e-d8c5bb734dee"
   },
   "source": [
    "# separate pathogen/non pathogens and calculate the sums per patient\n",
    "pathog_df = df[df['pathogen'] == True].drop(columns='pathogen')\n",
    "non_pathog_df = df[df['pathogen'] == False].drop(columns='pathogen')\n",
    "total_pathogen = pathog_df.sum()\n",
    "total_non_pathogen = non_pathog_df.sum()\n",
    "total_counts = df.drop(columns='pathogen').sum()\n",
    "\n",
    "# calculate the proportions and make them a df\n",
    "proportion_pathogen = total_pathogen / total_counts\n",
    "proportion_non_pathogen = total_non_pathogen / total_counts\n",
    "proportions = pd.DataFrame({\n",
    "    'Proportion Pathogen': proportion_pathogen,\n",
    "    'Proportion Non-Pathogen': proportion_non_pathogen\n",
    "})\n",
    "proportions\n"
   ],
   "outputs": []
  },
  {
   "cell_type": "markdown",
   "id": "f20e89fa-8508-4dc8-a1af-239522340850",
   "metadata": {
    "id": "f20e89fa-8508-4dc8-a1af-239522340850"
   },
   "source": [
    "## Plot a graph of age vs. pathogens"
   ]
  },
  {
   "cell_type": "code",
   "execution_count": 8,
   "id": "e5f3a026-c8d3-4a50-99f7-16920e975a0c",
   "metadata": {
    "colab": {
     "base_uri": "https://localhost:8080/",
     "height": 466
    },
    "id": "e5f3a026-c8d3-4a50-99f7-16920e975a0c",
    "outputId": "26a25684-7382-4384-a8fb-88464c54e0f8"
   },
   "source": [
    "age_pathog = pd.DataFrame()\n",
    "age_pathog['Proportion pathogens'] = proportions['Proportion Pathogen']\n",
    "age_pathog = age_pathog.join(metadata[['Age']])\n",
    "\n",
    "sns.scatterplot(data=age_pathog, x='Age', y='Proportion pathogens')"
   ],
   "outputs": []
  },
  {
   "cell_type": "markdown",
   "id": "408b76bb-064d-40e0-a432-d4bef07ff4af",
   "metadata": {
    "id": "408b76bb-064d-40e0-a432-d4bef07ff4af"
   },
   "source": [
    "### Add some statistics"
   ]
  },
  {
   "cell_type": "code",
   "execution_count": 9,
   "id": "cb942ef2-7d77-49ce-9a25-f07eed343533",
   "metadata": {
    "colab": {
     "base_uri": "https://localhost:8080/"
    },
    "id": "cb942ef2-7d77-49ce-9a25-f07eed343533",
    "outputId": "84d254df-4c33-4baa-aa14-054990fc42b1"
   },
   "source": [
    "# Perform linear regression using scipy.stats.linregress\n",
    "slope, intercept, r_value, p_value, std_err = linregress(age_pathog['Age'], age_pathog['Proportion pathogens'])\n",
    "\n",
    "print(f\"The relationship between 'Age' and 'Proportion pathogens' has an equation of y = {slope:.2f}x + {intercept:.2f}, a Pearson r of {r_value:.2f}, and p={p_value:.2f}\")"
   ],
   "outputs": []
  },
  {
   "cell_type": "code",
   "execution_count": 10,
   "id": "1eaae621-ccc6-46ba-b278-60d9e0301277",
   "metadata": {
    "colab": {
     "base_uri": "https://localhost:8080/",
     "height": 479
    },
    "id": "1eaae621-ccc6-46ba-b278-60d9e0301277",
    "outputId": "0102fa9f-89ad-4d1e-e0ad-f701a4b827e9"
   },
   "source": [
    "sns.regplot(\n",
    "    x='Age', y='Proportion pathogens', data=age_pathog, scatter_kws={'s': 50}, line_kws={'color': 'red'}\n",
    ")\n",
    "\n",
    "# Annotate the plot with R-squared value\n",
    "plt.text(\n",
    "    0.8, 0.1, f\"$R^2 = {r_value:.2f}$\\np={p_value:.2f}\", fontsize=12, transform=plt.gca().transAxes, color='red'\n",
    ")\n",
    "\n",
    "# Set labels and title\n",
    "plt.xlabel('Age', fontsize=14)\n",
    "plt.ylabel('Proportion of Pathogens', fontsize=14)\n",
    "plt.title('Linear Regression of Age vs Proportion Pathogens', fontsize=16)\n",
    "plt.show()\n"
   ],
   "outputs": []
  },
  {
   "cell_type": "markdown",
   "id": "43feeff8-efe9-475d-b72c-b77332413787",
   "metadata": {
    "id": "43feeff8-efe9-475d-b72c-b77332413787"
   },
   "source": [
    "## Proportion pathogens vs. hospital"
   ]
  },
  {
   "cell_type": "code",
   "execution_count": 38,
   "id": "c572a35c-be37-4b62-863e-9d0887017c9a",
   "metadata": {
    "colab": {
     "base_uri": "https://localhost:8080/",
     "height": 487
    },
    "id": "c572a35c-be37-4b62-863e-9d0887017c9a",
    "outputId": "3a6f2120-d715-456e-adf9-6f7b20fe095e"
   },
   "source": [
    "hosp_pathog = pd.DataFrame()\n",
    "hosp_pathog['Proportion pathogens'] = proportions['Proportion Pathogen']\n",
    "hosp_pathog = hosp_pathog.join(metadata[['Hospital', 'Paediatric vs Adult']])\n",
    "\n",
    "ax = plt.subplot(121)\n",
    "sns.violinplot(x='Hospital', y='Proportion pathogens', data=hosp_pathog, inner=None, palette='Set2', alpha=0.7, ax=ax)\n",
    "\n",
    "# Jittered points\n",
    "sns.stripplot(x='Hospital', y='Proportion pathogens', data=hosp_pathog, color='black', jitter=True, size=5, alpha=0.6, ax=ax)\n",
    "\n",
    "ax = plt.subplot(122)\n",
    "\n",
    "sns.violinplot(x='Paediatric vs Adult', y='Proportion pathogens', data=hosp_pathog, inner=None, palette='Set2', alpha=0.7, ax=ax)\n",
    "\n",
    "# Jittered points\n",
    "sns.stripplot(x='Paediatric vs Adult', y='Proportion pathogens', data=hosp_pathog, color='black', jitter=True, size=5, alpha=0.6, ax=ax)\n",
    "\n",
    "plt.tight_layout()\n",
    "plt.show()"
   ],
   "outputs": []
  },
  {
   "cell_type": "markdown",
   "id": "7ea6411b-5073-4b03-99d9-19ed6ccb4079",
   "metadata": {
    "id": "7ea6411b-5073-4b03-99d9-19ed6ccb4079"
   },
   "source": [
    "## FEV1 vs pathogenicity\n",
    "\n",
    "Oddly, there does not seem to be a strong relationship between the proportion of pathogens and the FEV1. I would have expected there to be a negative relationship, with more pathogens at a lower FEV1/best FEV or FEV1_RATIO_SCORE."
   ]
  },
  {
   "cell_type": "code",
   "execution_count": 13,
   "id": "868cdbc4-d3fd-4c9a-aa56-bee510ce51e6",
   "metadata": {
    "colab": {
     "base_uri": "https://localhost:8080/",
     "height": 503
    },
    "id": "868cdbc4-d3fd-4c9a-aa56-bee510ce51e6",
    "outputId": "3fcfb778-5cf9-4ef6-af73-0eecd166b81f"
   },
   "source": [
    "fev_pathog = pd.DataFrame()\n",
    "fev_pathog['Proportion pathogens'] = proportions['Proportion Pathogen']\n",
    "fev_pathog = fev_pathog.join(metadata[['FEV1/best FEV1', 'FEV1_RATIO_SCORE']])\n",
    "\n",
    "ax = plt.subplot(121)\n",
    "\n",
    "sns.violinplot(x='FEV1_RATIO_SCORE', y='Proportion pathogens', data=fev_pathog, inner=None, palette='Set2', alpha=0.7, ax=ax)\n",
    "\n",
    "# Jittered points\n",
    "sns.stripplot(x='FEV1_RATIO_SCORE', y='Proportion pathogens', data=fev_pathog, color='black', jitter=True,  size=5, alpha=0.6, ax=ax)\n",
    "\n",
    "ax = plt.subplot(122)\n",
    "\n",
    "x='FEV1/best FEV1'\n",
    "y='Proportion pathogens'\n",
    "slope, intercept, r_value, p_value, std_err = linregress(fev_pathog[x], fev_pathog[y])\n",
    "\n",
    "print(f\"The relationship between {x} and {y} has an equation of y = {slope:.2f}x + {intercept:.2f}, a Pearson r of {r_value:.2f}, and p={p_value:.2f}\")\n",
    "\n",
    "sns.regplot(x=x, y=y, data=fev_pathog, scatter_kws={'s': 50}, line_kws={'color': 'red'})\n",
    "#sns.scatterplot(x=x, y=y, data=fev_pathog, color='black', alpha=0.6, ax=ax)\n",
    "\n",
    "plt.tight_layout()\n",
    "plt.show()"
   ],
   "outputs": []
  },
  {
   "cell_type": "code",
   "execution_count": 14,
   "id": "ebc0680e-91cb-425c-be56-eb3d2f8dd703",
   "metadata": {
    "colab": {
     "base_uri": "https://localhost:8080/",
     "height": 424
    },
    "id": "ebc0680e-91cb-425c-be56-eb3d2f8dd703",
    "outputId": "8d201afa-d671-4035-fd20-6a794d610cf8"
   },
   "source": [
    "pdf = pd.DataFrame(df.loc['Pseudomonas', :].drop('pathogen')).join(metadata[['Hospital', 'Paediatric vs Adult', 'FEV1/best FEV1', 'FEV1_RATIO_SCORE']])\n",
    "pdf"
   ],
   "outputs": []
  },
  {
   "cell_type": "code",
   "source": [
    "df.sum(axis=0)"
   ],
   "metadata": {
    "colab": {
     "base_uri": "https://localhost:8080/",
     "height": 458
    },
    "id": "EAp3kQsilJg7",
    "outputId": "a9b5df4f-babe-4be4-c928-16a7069b25d1"
   },
   "id": "EAp3kQsilJg7",
   "execution_count": 15,
   "outputs": []
  },
  {
   "cell_type": "code",
   "source": [
    "pdf = pd.DataFrame(df.loc['Pseudomonas', :].drop('pathogen')/df.sum(axis=0).drop('pathogen')).rename(columns={0:'Proportion Pseudomonas'}).join(metadata[['Hospital', 'Paediatric vs Adult', 'FEV1/best FEV1', 'FEV1_RATIO_SCORE']])\n",
    "pdf['Proportion Pseudomonas'] = pdf['Proportion Pseudomonas'].astype(float)\n",
    "pdf.head()"
   ],
   "metadata": {
    "colab": {
     "base_uri": "https://localhost:8080/",
     "height": 206
    },
    "id": "HVw_zb-fmcnU",
    "outputId": "c78942e2-344e-447a-d4fb-2a6ee0ac3c98"
   },
   "id": "HVw_zb-fmcnU",
   "execution_count": 16,
   "outputs": []
  },
  {
   "cell_type": "code",
   "source": [
    "sns.regplot(data=pdf[pdf['Proportion Pseudomonas'] > 0.01], x='Proportion Pseudomonas', y='FEV1/best FEV1', scatter_kws={'s': 50}, line_kws={'color': 'red'})"
   ],
   "metadata": {
    "colab": {
     "base_uri": "https://localhost:8080/",
     "height": 466
    },
    "id": "irTFLqHpmxqp",
    "outputId": "e21b1429-46a4-4c91-e138-927981eea360"
   },
   "id": "irTFLqHpmxqp",
   "execution_count": 17,
   "outputs": []
  },
  {
   "cell_type": "code",
   "source": [
    "len(pathogens)\n",
    "\n"
   ],
   "metadata": {
    "colab": {
     "base_uri": "https://localhost:8080/"
    },
    "id": "JZ_G8R5gnxuX",
    "outputId": "144ee81a-8dfb-4d86-b5a0-b7c41973bb9c"
   },
   "id": "JZ_G8R5gnxuX",
   "execution_count": 18,
   "outputs": []
  },
  {
   "cell_type": "code",
   "source": [
    "pdf.dtypes"
   ],
   "metadata": {
    "colab": {
     "base_uri": "https://localhost:8080/",
     "height": 241
    },
    "id": "XNXSe9U1neYA",
    "outputId": "c4340dde-71e6-413c-da47-461b21ce6a3d"
   },
   "id": "XNXSe9U1neYA",
   "execution_count": 19,
   "outputs": []
  },
  {
   "cell_type": "code",
   "source": [
    "fig, axes = plt.subplots(figsize=(18, 12), nrows=5, ncols=4, sharex=False, sharey=False)\n",
    "\n",
    "for i, p in enumerate(pathogens):\n",
    "  ax = axes[i//4, i%4]\n",
    "  pdf = pd.DataFrame(df.loc[p, :].drop('pathogen')/df.sum(axis=0).drop('pathogen')).rename(columns={0:f'Proportion {p}'}).join(metadata[['FEV1/best FEV1']])\n",
    "  pdf[f'Proportion {p}'] = pdf[f'Proportion {p}'].astype(float)\n",
    "  sns.regplot(data=pdf[pdf[f'Proportion {p}'] > 0], x=f'Proportion {p}', y='FEV1/best FEV1', scatter_kws={'s': 50}, line_kws={'color': 'red'}, ax=ax)\n",
    "\n",
    "plt.tight_layout()\n",
    "plt.show()"
   ],
   "metadata": {
    "colab": {
     "base_uri": "https://localhost:8080/",
     "height": 1000
    },
    "id": "dDq_RBHPnkKu",
    "outputId": "41c99764-d203-440f-8743-98a0a1dc9d04"
   },
   "id": "dDq_RBHPnkKu",
   "execution_count": 20,
   "outputs": []
  },
  {
   "cell_type": "code",
   "source": [
    "\", \".join(list(metadata.columns))"
   ],
   "metadata": {
    "colab": {
     "base_uri": "https://localhost:8080/",
     "height": 122
    },
    "id": "MKMkKUhdqA4V",
    "outputId": "d207cb9e-b519-4083-9ddf-288d3da42aab"
   },
   "id": "MKMkKUhdqA4V",
   "execution_count": 21,
   "outputs": []
  },
  {
   "cell_type": "code",
   "source": [
    "submeta = metadata[['IP vs OP', 'Hospital', 'Age', 'Age groups']]\n",
    "submeta.head()"
   ],
   "metadata": {
    "id": "pLIMQgLmpo9h",
    "outputId": "613187bf-7656-4cbc-a943-103f2c47cfb8",
    "colab": {
     "base_uri": "https://localhost:8080/",
     "height": 238
    }
   },
   "id": "pLIMQgLmpo9h",
   "execution_count": 22,
   "outputs": []
  },
  {
   "cell_type": "code",
   "source": [
    "# prompt: in my submeta dataframe, how do i test whether older people using Age are more likely to have IP or OP in the \"IP vs OP\" column?\n",
    "\n",
    "# Group the data by age and calculate the proportion of IP vs OP for each age group\n",
    "age_ip_op_proportions = submeta.groupby('Age groups')['IP vs OP'].value_counts(normalize=True).unstack()\n",
    "\n",
    "# Calculate the difference in proportions between older and younger age groups\n",
    "age_differences = age_ip_op_proportions.diff()\n",
    "\n",
    "age_range = submeta.groupby('Age groups')['Age'].agg(['min', 'max'])\n",
    "\n",
    "\n",
    "# Plot the results (optional)\n",
    "ax = age_ip_op_proportions.plot(kind='bar')\n",
    "x_ticks = age_range.index\n",
    "new_labels = [f\"{age_range.loc[x, 'min']}-{age_range.loc[x, 'max']}\" for x in x_ticks]\n",
    "#ax.set_xticks(x_ticks)\n",
    "ax.set_xticklabels(new_labels, rotation=45, ha='center')\n",
    "plt.title('Proportion of IP vs OP by Age groups')\n",
    "plt.xlabel('Age groups')\n",
    "plt.ylabel('Proportion')\n",
    "plt.show()"
   ],
   "metadata": {
    "id": "2pzpXmxlpwdz",
    "outputId": "0424827d-390e-4e8e-bbfb-7098b8fa7be9",
    "colab": {
     "base_uri": "https://localhost:8080/",
     "height": 496
    }
   },
   "id": "2pzpXmxlpwdz",
   "execution_count": 31,
   "outputs": []
  },
  {
   "cell_type": "code",
   "source": [
    "sns.scatterplot(data=submeta, x='Age', y='Age groups')"
   ],
   "metadata": {
    "id": "27CqMZTKqHKV",
    "outputId": "3082a654-b743-4be9-94ae-a0bba8b95b8b",
    "colab": {
     "base_uri": "https://localhost:8080/",
     "height": 466
    }
   },
   "id": "27CqMZTKqHKV",
   "execution_count": 25,
   "outputs": []
  },
  {
   "cell_type": "code",
   "source": [
    "submeta[submeta['Age groups'] > 4]"
   ],
   "metadata": {
    "id": "g2jT4ojUrdQd",
    "outputId": "19c7f622-b771-42ae-b076-a11bab04bac0",
    "colab": {
     "base_uri": "https://localhost:8080/",
     "height": 1000
    }
   },
   "id": "g2jT4ojUrdQd",
   "execution_count": 35,
   "outputs": []
  },
  {
   "cell_type": "code",
   "source": [],
   "metadata": {
    "id": "qmprFYQCsTOL"
   },
   "id": "qmprFYQCsTOL",
   "execution_count": null,
   "outputs": []
  }
 ],
 "metadata": {
  "kernelspec": {
   "display_name": "BioinfieConda",
   "language": "python",
   "name": "bioinfieconda"
  },
  "language_info": {
   "codemirror_mode": {
    "name": "ipython",
    "version": 3
   },
   "file_extension": ".py",
   "mimetype": "text/x-python",
   "name": "python",
   "nbconvert_exporter": "python",
   "pygments_lexer": "ipython3",
   "version": "3.9.19"
  },
  "colab": {
   "provenance": [],
   "include_colab_link": true
  }
 },
 "nbformat": 4,
 "nbformat_minor": 5
}
