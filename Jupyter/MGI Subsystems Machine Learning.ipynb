{
 "cells": [
  {
   "cell_type": "markdown",
   "id": "62cc0677-1cca-4555-b4d6-1e49d857d95d",
   "metadata": {},
   "source": [
    "# Machine Learning to Associate Subsystems with Metadata"
   ]
  },
  {
   "cell_type": "code",
   "execution_count": 1,
   "id": "e6222a3c-cb77-48fb-8c87-14f3cdb04cd1",
   "metadata": {},
   "source": [
    "import os\n",
    "import sys\n",
    "\n",
    "import re\n",
    "import numpy as np\n",
    "import matplotlib.pyplot as plt\n",
    "from matplotlib.collections import PatchCollection\n",
    "import matplotlib.colors as mcolors\n",
    "import matplotlib.dates as mdates\n",
    "from matplotlib.colors import ListedColormap\n",
    "import pandas as pd\n",
    "import seaborn as sns\n",
    "import json\n",
    "\n",
    "from itertools import cycle\n",
    "\n",
    "from sklearn.decomposition import PCA\n",
    "from sklearn.preprocessing import StandardScaler\n",
    "from sklearn.preprocessing import LabelEncoder\n",
    "from sklearn.inspection import permutation_importance\n",
    "\n",
    "from sklearn.model_selection import train_test_split\n",
    "from sklearn.ensemble import RandomForestRegressor, RandomForestClassifier\n",
    "from sklearn.metrics import mean_squared_error\n",
    "\n",
    "from scipy.stats import linregress\n",
    "\n",
    "\n",
    "# there is a FutureWarning in sklearn StandardScalar which is really annoying. This ignores it.\n",
    "import warnings\n",
    "warnings.simplefilter(action='ignore', category=FutureWarning)\n",
    "\n",
    "try:\n",
    "  import google.colab\n",
    "  IN_COLAB = True\n",
    "  !pip install adjustText\n",
    "  from google.colab import drive\n",
    "  drive.mount('/content/drive')\n",
    "  datadir = '/content/drive/MyDrive/Projects/CF/Adelaide/CF_Data_Analysis'\n",
    "except ImportError:\n",
    "  IN_COLAB = False\n",
    "  datadir = '..'\n",
    "\n",
    "from adjustText import adjust_text\n"
   ],
   "outputs": []
  },
  {
   "cell_type": "code",
   "execution_count": 3,
   "id": "506b7dc3-6f5b-40a1-b6d8-f6c9bcdfbe12",
   "metadata": {},
   "source": [
    "import cf_analysis_lib\n",
    "sequence_type = \"MGI\"\n",
    "datadir = '..'\n",
    "#sslevel = 'level2_norm_ss.tsv.gz'\n",
    "sslevel = 'subsystems_norm_ss.tsv.gz'\n",
    "df = cf_analysis_lib.read_subsystems(os.path.join(datadir, sequence_type, \"FunctionalAnalysis\", \"subsystems\", sslevel))\n",
    "metadata = cf_analysis_lib.read_metadata(datadir, sequence_type)\n",
    "metadata.head()"
   ],
   "outputs": []
  },
  {
   "cell_type": "code",
   "execution_count": null,
   "id": "d715c2a3-a84a-46af-9a22-ad70f46219d9",
   "metadata": {},
   "source": [],
   "outputs": []
  }
 ],
 "metadata": {
  "kernelspec": {
   "display_name": "Python 3 (ipykernel)",
   "language": "python",
   "name": "python3"
  },
  "language_info": {
   "codemirror_mode": {
    "name": "ipython",
    "version": 3
   },
   "file_extension": ".py",
   "mimetype": "text/x-python",
   "name": "python",
   "nbconvert_exporter": "python",
   "pygments_lexer": "ipython3",
   "version": "3.9.5"
  }
 },
 "nbformat": 4,
 "nbformat_minor": 5
}
