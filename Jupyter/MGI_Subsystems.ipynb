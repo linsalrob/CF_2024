{
 "cells": [
  {
   "cell_type": "markdown",
   "id": "d7328926-693b-4f25-92c1-4c90caccdf45",
   "metadata": {},
   "source": [
    "# MGI Subsystem Counts\n",
    "\n",
    "Explore some data, MGI style"
   ]
  },
  {
   "cell_type": "code",
   "execution_count": 1,
   "id": "0568dac7-21af-45d1-af64-3975360d0ef6",
   "metadata": {},
   "source": [
    "import os\n",
    "import sys\n",
    "\n",
    "import re\n",
    "import numpy as np\n",
    "import matplotlib.pyplot as plt\n",
    "from matplotlib.collections import PatchCollection\n",
    "import matplotlib.colors as mcolors\n",
    "import matplotlib.dates as mdates\n",
    "from matplotlib.colors import ListedColormap\n",
    "import pandas as pd\n",
    "import seaborn as sns\n",
    "import json\n",
    "\n",
    "from itertools import cycle\n",
    "\n",
    "from sklearn.decomposition import PCA\n",
    "from sklearn.preprocessing import StandardScaler\n",
    "from sklearn.preprocessing import LabelEncoder\n",
    "from sklearn.inspection import permutation_importance\n",
    "\n",
    "from sklearn.model_selection import train_test_split\n",
    "from sklearn.ensemble import RandomForestRegressor, RandomForestClassifier\n",
    "from sklearn.metrics import mean_squared_error\n",
    "\n",
    "from scipy.stats import linregress\n",
    "\n",
    "\n",
    "# there is a FutureWarning in sklearn StandardScalar which is really annoying. This ignores it.\n",
    "import warnings\n",
    "warnings.simplefilter(action='ignore', category=FutureWarning)\n",
    "\n",
    "try:\n",
    "  import google.colab\n",
    "  IN_COLAB = True\n",
    "  !pip install adjustText\n",
    "  from google.colab import drive\n",
    "  drive.mount('/content/drive')\n",
    "  datadir = '/content/drive/MyDrive/Projects/CF/Adelaide/CF_Data_Analysis'\n",
    "except ImportError:\n",
    "  IN_COLAB = False\n",
    "  datadir = '..'\n",
    "\n",
    "from adjustText import adjust_text"
   ],
   "outputs": []
  },
  {
   "cell_type": "code",
   "execution_count": 2,
   "id": "d5d58e7c-f788-4565-9695-d9d9a8dfbf97",
   "metadata": {},
   "source": [
    "import cf_analysis_lib"
   ],
   "outputs": []
  },
  {
   "cell_type": "code",
   "execution_count": 3,
   "id": "a19bedad-54e3-49a4-aecd-d88801cc8857",
   "metadata": {},
   "source": [
    "sequence_type = \"MGI\"\n",
    "\n",
    "#sslevel = 'level2_norm_ss.tsv.gz'\n",
    "sslevel = 'subsystems_norm_ss.tsv.gz'\n",
    "df = cf_analysis_lib.read_subsystems(os.path.join(datadir, sequence_type, \"FunctionalAnalysis\", \"subsystems\", sslevel))\n",
    "df.head()"
   ],
   "outputs": []
  },
  {
   "cell_type": "code",
   "execution_count": 4,
   "id": "c9e0be84-c9f3-46ea-bdf3-26be3e9f107c",
   "metadata": {},
   "source": [
    "metadata = cf_analysis_lib.read_metadata(datadir, sequence_type)\n",
    "metadata.head()"
   ],
   "outputs": []
  },
  {
   "cell_type": "code",
   "execution_count": 5,
   "id": "7009c926-d0d7-4e6b-8694-b891ae1181aa",
   "metadata": {},
   "source": [
    "dft = df.T\n",
    "dft.head()"
   ],
   "outputs": []
  },
  {
   "cell_type": "markdown",
   "id": "9f12840e-1628-43ad-bbab-18fe5be77f62",
   "metadata": {},
   "source": [
    "### Make a simple data frame with patient and data as separate columns so we can use them as labels"
   ]
  },
  {
   "cell_type": "code",
   "execution_count": 6,
   "id": "bcfb0dbb-818b-4165-9925-7d1f185ed8d4",
   "metadata": {},
   "source": [
    "pattern = r'(?P<Patient>\\d+)_(?P<Date>\\d+)_(\\S+)'\n",
    "tmp = dft.index.str.extract(pattern)\n",
    "cols = ['Patient', 'Date']\n",
    "labels = pd.DataFrame()\n",
    "labels[cols] = tmp[cols].values\n",
    "labels.head(2)"
   ],
   "outputs": []
  },
  {
   "cell_type": "markdown",
   "id": "42033a81-4309-4d85-84fb-5c5bf41c642b",
   "metadata": {},
   "source": [
    "## Run a PCA\n",
    "\n",
    "We use a standard PCA, and then add the labels from the previous df"
   ]
  },
  {
   "cell_type": "code",
   "execution_count": 7,
   "id": "315bdbae-a848-4177-87f6-f00c48d3fff9",
   "metadata": {},
   "source": [
    "scaler = StandardScaler()\n",
    "scaler.fit(dft)\n",
    "dft_scaled = scaler.transform(dft)\n",
    "pca = PCA(n_components=2)\n",
    "pca.fit(dft_scaled)\n",
    "dft_pca = pca.transform(dft_scaled)\n",
    "zipped = list(zip(dft_pca[:,0],\n",
    "                  dft_pca[:,1],\n",
    "                  list(dft.index),\n",
    "                 ))\n",
    "pct_df = pd.DataFrame(zipped, columns=['PC1', 'PC2', \"Label\"])\n",
    "pct_df = pd.concat([pct_df, labels], axis=1)\n",
    "\n",
    "explained_variance = pca.explained_variance_ratio_ * 100\n",
    "pc1_variance = explained_variance[0]\n",
    "pc2_variance = explained_variance[1]\n",
    "\n",
    "pct_df.head(3)"
   ],
   "outputs": []
  },
  {
   "cell_type": "markdown",
   "id": "ecad04d0-d02d-4628-954b-6282c29ea924",
   "metadata": {},
   "source": [
    "## Calculate the PCA loadings"
   ]
  },
  {
   "cell_type": "code",
   "execution_count": 8,
   "id": "f04bcd91-5f44-4232-bd6d-1da271d02cea",
   "metadata": {},
   "source": [
    "loadings = pd.DataFrame(pca.components_.T, columns=['PC1', 'PC2'], index=dft.columns)\n",
    "loadings.nlargest(10, ['PC1', 'PC2'])"
   ],
   "outputs": []
  },
  {
   "cell_type": "code",
   "execution_count": 9,
   "id": "c6b51501-c411-4bd1-951c-edbfd22ceec5",
   "metadata": {},
   "source": [
    "top_loadings_pc1 = loadings['PC1'].abs().nlargest(5).index\n",
    "top_loadings_pc2 = loadings['PC2'].abs().nlargest(5).index\n",
    "top_loadings = top_loadings_pc1.union(top_loadings_pc2)\n",
    "loadings.loc[top_loadings]"
   ],
   "outputs": []
  },
  {
   "cell_type": "code",
   "execution_count": 10,
   "id": "780d12fb-eaac-4273-b0e6-45e6e39dbfe3",
   "metadata": {},
   "source": [
    "fig, ax = plt.subplots(figsize=(9,9))\n",
    "sns.scatterplot(x=\"PC1\", y=\"PC2\", hue='Patient', legend=False, data=pct_df, ax=ax)\n",
    "#ax.legend()\n",
    "#ax.legend(loc='center left', bbox_to_anchor=(1, 0.5))\n",
    "ldf = loadings.loc[top_loadings]\n",
    "mlp1 = max(ldf.PC1)\n",
    "mlp2 = max(ldf.PC2)\n",
    "mpp1 = max(pct_df.PC1)\n",
    "mpp2 = max(pct_df.PC2)\n",
    "\n",
    "colour_cycle = cycle(mcolors.TABLEAU_COLORS)\n",
    "\n",
    "plt.xlabel(f\"PC1 ({pc1_variance:.2f}%)\")\n",
    "plt.ylabel(f\"PC2 ({pc2_variance:.2f}%)\")\n",
    "texts = []\n",
    "for i, l in ldf.iterrows():\n",
    "    c = next(colour_cycle)\n",
    "    ex = ( l.PC1 * (mpp1/mlp1) ) / 2\n",
    "    ey = ( l.PC2 * (mpp2/mlp2) ) / 2\n",
    "    texts.append(plt.text(ex, ey, i, color=c, fontsize=9))\n",
    "    plt.plot([0, ex ], [0, ey ], color=c, lw=1)\n",
    "adjust_text(texts)\n",
    "plt.tight_layout()\n",
    "\n",
    "plt.show()"
   ],
   "outputs": []
  },
  {
   "cell_type": "markdown",
   "id": "04aaed7e-5a3a-42b9-b497-0c883d8ef886",
   "metadata": {},
   "source": [
    "## Outlier alert!\n",
    "\n",
    "There is one pwCF who is an outlier in this data. Their PC1 > 40 for the three points"
   ]
  },
  {
   "cell_type": "code",
   "execution_count": 11,
   "id": "b3b17848-bfe4-40da-a4a4-67ef11f9b349",
   "metadata": {},
   "source": [
    "pct_df[pct_df['PC1'] > 25]"
   ],
   "outputs": []
  },
  {
   "cell_type": "code",
   "execution_count": 12,
   "id": "e7e3a3c3-9384-41a1-82b6-9c081a940945",
   "metadata": {},
   "source": [
    "df[[x for x in df.columns if x.startswith('1128691_')]].sort_values(by='1128691_20171206_S', ascending=False)"
   ],
   "outputs": []
  },
  {
   "cell_type": "markdown",
   "id": "221506f5-bcd1-4a95-925b-4fa6ff230286",
   "metadata": {},
   "source": [
    "**Read the taxa data**\n",
    "\n",
    "Here we read the taxonomy data so we can look at these samples"
   ]
  },
  {
   "cell_type": "code",
   "execution_count": 14,
   "id": "b5310520-2061-42fa-b56e-bb83b1790932",
   "metadata": {},
   "source": [
    "taxa = \"genus\"\n",
    "if not datadir:\n",
    "    datadir = '..'\n",
    "taxdf = cf_analysis_lib.read_taxonomy(datadir, sequence_type, taxa)\n",
    "taxdf = taxdf.T"
   ],
   "outputs": []
  },
  {
   "cell_type": "markdown",
   "id": "207ac9ee-7cb2-4e83-8216-dd5ff73f3e6f",
   "metadata": {},
   "source": [
    "Here's the abundance of Pseudomonas and Streptococcus in that pwCF"
   ]
  },
  {
   "cell_type": "code",
   "execution_count": 16,
   "id": "7b9efc32-d735-4f8b-b82f-95e54e207dca",
   "metadata": {},
   "source": [
    "pd.options.display.float_format = '{:,.2f}'.format\n",
    "wants = [x for x in taxdf.index if x.startswith('1128691_')]\n",
    "taxdf.loc[wants,['Pseudomonas', 'Streptococcus']]"
   ],
   "outputs": []
  },
  {
   "cell_type": "code",
   "execution_count": 22,
   "id": "003d560c-207d-40eb-b4ac-ca4445ffefc4",
   "metadata": {},
   "source": [
    "intpwcf = taxdf.loc[wants,:]\n",
    "intpwcf = intpwcf.loc[:,intpwcf.sum() > 2000]\n",
    "sns.boxplot(data=intpwcf.loc[:,intpwcf.sum().sort_values(ascending=False).index])\n",
    "sns.stripplot(data=intpwcf.loc[:,intpwcf.sum().sort_values(ascending=False).index], color='k')\n",
    "plt.xticks(rotation=90)\n",
    "plt.title(\"Abundance of different organisms in pwCF 1128691\")\n",
    "plt.show()"
   ],
   "outputs": []
  },
  {
   "cell_type": "code",
   "execution_count": null,
   "id": "65e48ed4-84f8-494e-b275-67a33a8050f5",
   "metadata": {},
   "source": [],
   "outputs": []
  }
 ],
 "metadata": {
  "kernelspec": {
   "display_name": "Python 3 (ipykernel)",
   "language": "python",
   "name": "python3"
  },
  "language_info": {
   "codemirror_mode": {
    "name": "ipython",
    "version": 3
   },
   "file_extension": ".py",
   "mimetype": "text/x-python",
   "name": "python",
   "nbconvert_exporter": "python",
   "pygments_lexer": "ipython3",
   "version": "3.9.5"
  }
 },
 "nbformat": 4,
 "nbformat_minor": 5
}
