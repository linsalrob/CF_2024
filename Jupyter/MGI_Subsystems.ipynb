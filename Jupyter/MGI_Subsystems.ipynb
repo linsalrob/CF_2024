{
 "cells": [
  {
   "cell_type": "markdown",
   "id": "d7328926-693b-4f25-92c1-4c90caccdf45",
   "metadata": {},
   "source": [
    "# MGI Subsystem Counts\n",
    "\n",
    "Explore some data, MGI style"
   ]
  },
  {
   "cell_type": "code",
   "execution_count": 3,
   "id": "0568dac7-21af-45d1-af64-3975360d0ef6",
   "metadata": {},
   "outputs": [],
   "source": [
    "import os\n",
    "import sys\n",
    "\n",
    "import re\n",
    "import numpy as np\n",
    "import matplotlib.pyplot as plt\n",
    "from matplotlib.collections import PatchCollection\n",
    "from matplotlib.colors import ListedColormap\n",
    "import matplotlib.dates as mdates\n",
    "import pandas as pd\n",
    "import seaborn as sns\n",
    "import json\n",
    "\n",
    "from itertools import cycle\n",
    "\n",
    "from sklearn.decomposition import PCA\n",
    "from sklearn.preprocessing import StandardScaler\n",
    "from sklearn.preprocessing import LabelEncoder\n",
    "from sklearn.inspection import permutation_importance\n",
    "\n",
    "from sklearn.model_selection import train_test_split\n",
    "from sklearn.ensemble import RandomForestRegressor, RandomForestClassifier\n",
    "from sklearn.metrics import mean_squared_error\n",
    "\n",
    "from scipy.stats import linregress\n",
    "\n",
    "\n",
    "# there is a FutureWarning in sklearn StandardScalar which is really annoying. This ignores it.\n",
    "import warnings\n",
    "warnings.simplefilter(action='ignore', category=FutureWarning)\n",
    "\n",
    "try:\n",
    "  import google.colab\n",
    "  IN_COLAB = True\n",
    "  !pip install adjustText\n",
    "  from google.colab import drive\n",
    "  drive.mount('/content/drive')\n",
    "  datadir = '/content/drive/MyDrive/Projects/CF/Adelaide/CF_Data_Analysis'\n",
    "except ImportError:\n",
    "  IN_COLAB = False\n",
    "  datadir = '..'\n",
    "\n",
    "from adjustText import adjust_text"
   ]
  },
  {
   "cell_type": "code",
   "execution_count": 6,
   "id": "d5d58e7c-f788-4565-9695-d9d9a8dfbf97",
   "metadata": {},
   "outputs": [],
   "source": [
    "import cf_analysis_lib"
   ]
  },
  {
   "cell_type": "code",
   "execution_count": 5,
   "id": "a19bedad-54e3-49a4-aecd-d88801cc8857",
   "metadata": {},
   "outputs": [
    {
     "ename": "SyntaxError",
     "evalue": "invalid syntax (2911161101.py, line 1)",
     "output_type": "error",
     "traceback": [
      "\u001b[1;36m  Cell \u001b[1;32mIn[5], line 1\u001b[1;36m\u001b[0m\n\u001b[1;33m    def read_subsystems_data:\u001b[0m\n\u001b[1;37m                            ^\u001b[0m\n\u001b[1;31mSyntaxError\u001b[0m\u001b[1;31m:\u001b[0m invalid syntax\n"
     ]
    }
   ],
   "source": [
    "sequence_type = \"MGI\"\n",
    "\n",
    "cf_analysis_lib.read_subsystems(os.path.join(sequence_type, \""
   ]
  },
  {
   "cell_type": "code",
   "execution_count": null,
   "id": "fe74be5d-5373-425d-b510-6385a96314c5",
   "metadata": {},
   "outputs": [],
   "source": []
  }
 ],
 "metadata": {
  "kernelspec": {
   "display_name": "Python 3 (ipykernel)",
   "language": "python",
   "name": "python3"
  },
  "language_info": {
   "codemirror_mode": {
    "name": "ipython",
    "version": 3
   },
   "file_extension": ".py",
   "mimetype": "text/x-python",
   "name": "python",
   "nbconvert_exporter": "python",
   "pygments_lexer": "ipython3",
   "version": "3.9.5"
  }
 },
 "nbformat": 4,
 "nbformat_minor": 5
}
