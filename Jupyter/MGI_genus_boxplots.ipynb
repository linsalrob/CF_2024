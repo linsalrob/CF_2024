{
 "cells": [
  {
   "cell_type": "markdown",
   "id": "b1b67300-725a-4edd-ba23-2fbf2c044358",
   "metadata": {},
   "source": [
    "# Boxplots\n",
    "\n",
    "(c) 2023-2024 Nick Falk, Rob Edwards\n",
    "\n",
    "These boxplots are based on Nick's boxplot data, but this uses the \"new\" format taxonomy data that is the same for MGI and MinION\n"
   ]
  },
  {
   "cell_type": "code",
   "execution_count": 6,
   "id": "2623812a-91ef-4867-8cde-4a8eb543bd3d",
   "metadata": {},
   "source": [
    "import os\n",
    "import sys\n",
    "import pandas as pd\n",
    "import numpy as np\n",
    "import seaborn as sns\n",
    "import matplotlib.pyplot as plt\n",
    "from scipy import stats\n",
    "from statsmodels.stats.multitest import multipletests"
   ],
   "outputs": []
  },
  {
   "cell_type": "code",
   "execution_count": 7,
   "id": "d104959f-87f8-441c-a6db-d82b902bfffb",
   "metadata": {},
   "source": [
    "from cf_analysis_lib import read_taxonomy, read_metadata"
   ],
   "outputs": []
  },
  {
   "cell_type": "code",
   "execution_count": 8,
   "id": "6761feb4-8bd8-49ab-8ed8-8a7516721e79",
   "metadata": {},
   "source": [
    "datadir = \"..\"\n",
    "sequence_type = \"MGI\"\n",
    "taxa = \"genus\"\n",
    "genus_otu = read_taxonomy(datadir, sequence_type, taxa)\n",
    "genus_otu.head(3)"
   ],
   "outputs": []
  },
  {
   "cell_type": "code",
   "execution_count": 9,
   "id": "3e070c84-c94c-4221-9715-68e31246c0ca",
   "metadata": {},
   "source": [
    "# Normalization/Transformation\n",
    "# Square root transform\n",
    "sqrt_genus = np.sqrt(genus_otu)\n",
    "\n",
    "# Transpose the taxa table\n",
    "genus_otu2 = sqrt_genus.T\n",
    "genus_otu2.head()"
   ],
   "outputs": []
  },
  {
   "cell_type": "code",
   "execution_count": 12,
   "id": "31032382-c584-4122-a874-bf6a79a5dcf9",
   "metadata": {},
   "source": [
    "sequence_type = 'MGI'\n",
    "metadata = read_metadata(datadir, sequence_type)\n",
    "metadata.head(3)"
   ],
   "outputs": []
  },
  {
   "cell_type": "code",
   "execution_count": 14,
   "id": "190ad884-9a6f-453e-8d68-f1ce4670399f",
   "metadata": {},
   "source": [
    "# Merge the taxa table and metadata table by the shared row names\n",
    "merged1 = pd.merge(metadata.rename(columns={'Pseudomonas':'Pseudomonas culturing'}), genus_otu2, left_index=True, right_index=True)\n",
    "merged1.head()"
   ],
   "outputs": []
  },
  {
   "cell_type": "code",
   "execution_count": 15,
   "id": "7da79fc1-10ca-4f1b-85b0-a73739483ece",
   "metadata": {},
   "source": [
    "# Define the culturing\n",
    "culture_columns = [\n",
    "    'CS_Pseudomonas aeruginosa',\n",
    "    'CS_Stenophotomonas maltophilia',\n",
    "    'NTM',\n",
    "    'CS_Mycobacteroides abscessus',\n",
    "    'CS_Mycobacterium intracellulare',\n",
    "    'CS_Staphylococcus  aureus',\n",
    "    'CS_Achromobacter xylosoxidans',\n",
    "    'CS_Burkholderia cepacia',\n",
    "    'CS_Haemophilus influenzae'\n",
    "]\n",
    "\n",
    "culture_pairs = {\n",
    "    'CS_Pseudomonas aeruginosa' : 'Pseudomonas',\n",
    "    'CS_Stenophotomonas maltophilia': 'Stenotrophomonas',\n",
    "    'NTM' : 'Mycobacterium',\n",
    "    'CS_Mycobacteroides abscessus' : 'Mycobacteroides',\n",
    "    'CS_Mycobacterium intracellulare' : 'Mycobacterium',\n",
    "    'CS_Staphylococcus  aureus' : 'Staphylococcus',\n",
    "    'CS_Achromobacter xylosoxidans' : 'Achromobacter',\n",
    "    'CS_Burkholderia cepacia' : 'Burkholderia',\n",
    "    'CS_Haemophilus influenzae' : 'Haemophilus'\n",
    "}\n",
    "\n"
   ],
   "outputs": []
  },
  {
   "cell_type": "code",
   "execution_count": 16,
   "id": "3a62be34-74c3-4437-8fbf-4b5cb4e87224",
   "metadata": {},
   "source": [
    "# Step 2: Create Boxplots\n",
    "def create_boxplot(data, culture_taxa, taxa):\n",
    "    subset_data = data[data[culture_taxa].notna()]\n",
    "    plt.figure(figsize=(10, 6))\n",
    "    # sns.boxplot(x=culture_taxa, y=taxa, data=subset_data, color='black', boxprops=dict(facecolor='white'))\n",
    "    sns.violinplot(x=culture_taxa, y=taxa, data=subset_data, hue=culture_taxa, palette='rocket_r', alpha=0.5, legend=False)\n",
    "    sns.stripplot(x=culture_taxa, y=taxa, data=subset_data, color='black', jitter=True, alpha=0.5, legend=False)\n",
    "    plt.title(\"\")\n",
    "    plt.xlabel(\"\")\n",
    "    plt.ylabel(\"Abundance in Patient\")\n",
    "    plt.xticks(ticks=[0, 1], labels=[\"Negative Culture\", \"Positive Culture\"])\n",
    "    plt.grid(False)\n",
    "    plt.tight_layout()\n",
    "    plt.show()"
   ],
   "outputs": []
  },
  {
   "cell_type": "code",
   "execution_count": 17,
   "id": "10e4e572-61a8-423e-bb72-87f183db10c5",
   "metadata": {},
   "source": [
    "# Example usage\n",
    "create_boxplot(merged1, \"CS_Pseudomonas aeruginosa\", \"Pseudomonas\")"
   ],
   "outputs": []
  },
  {
   "cell_type": "code",
   "execution_count": 18,
   "id": "630f481d-357f-43d2-9f91-b5d3f7d6c62d",
   "metadata": {},
   "source": [
    "fig, ax = plt.subplots(figsize=(18, 12), nrows=3, ncols=3, sharex=False, sharey=False)\n",
    "\n",
    "k = 0\n",
    "for i in [0, 1, 2]:\n",
    "    for j in [0, 1, 2]:\n",
    "        culture_taxa = culture_columns[k]\n",
    "        taxa = culture_pairs[culture_taxa]\n",
    "        subset_data = merged1[merged1[culture_taxa].notna()]\n",
    "        g = sns.violinplot(x=culture_taxa, y=taxa, data=subset_data, hue=culture_taxa, palette='rocket_r', alpha=0.5, ax=ax[j][i], legend=False)\n",
    "        g = sns.stripplot(x=culture_taxa, y=taxa, data=subset_data, color='black', jitter=True, alpha=0.5, ax=ax[j][i], legend=False)\n",
    "        g.set_xlabel(\"\")\n",
    "        g.set_ylabel(\"Normalised Abundance in Patient\")\n",
    "        g.set_xlim(-0.5, 1.5)\n",
    "        g.set_xticks(ticks=[0, 1], labels=[\"Negative Culture\", \"Positive Culture\"])\n",
    "        g.set_title(f\"{culture_taxa.replace('CS_', '')} culture status\")\n",
    "        k+=1\n",
    "        \n",
    "\n",
    "plt.tight_layout()\n",
    "plt.show()"
   ],
   "outputs": []
  },
  {
   "cell_type": "code",
   "execution_count": 19,
   "id": "5de90233-b0a8-40a8-96cd-cf891d35fb2d",
   "metadata": {},
   "source": [
    "# Step 3: Additionally Stats Tests\n",
    "# Perform Kruskal-Wallis Test\n",
    "kruskal_stat, p_value = stats.kruskal(\n",
    "    merged1.loc[merged1['CS_Pseudomonas aeruginosa'] == 0.0, 'Pseudomonas'],\n",
    "    merged1.loc[merged1['CS_Pseudomonas aeruginosa'] == 1.0, 'Pseudomonas']\n",
    ")\n",
    "print(f'Kruskal-Wallis Test statistic: {kruskal_stat}, p-value: {p_value}')"
   ],
   "outputs": []
  },
  {
   "cell_type": "code",
   "execution_count": 20,
   "id": "4485820f-38cf-4c99-8849-87b1094b8cc2",
   "metadata": {},
   "source": [
    "# Calculate median\n",
    "g__CS_Pseudomonas_aeruginosa_median = merged1.groupby('CS_Pseudomonas aeruginosa', observed=True)['Pseudomonas'].median()\n",
    "print(g__CS_Pseudomonas_aeruginosa_median)"
   ],
   "outputs": []
  },
  {
   "cell_type": "code",
   "execution_count": 21,
   "id": "a897c80d-df91-45dc-aa74-25a09ed0da57",
   "metadata": {},
   "source": [
    "# Filter to get the threshold value for hits in the \"0\" grouping\n",
    "threshold_CS_Pseudomonas_aeruginosa = g__CS_Pseudomonas_aeruginosa_median.loc[1]\n",
    "print(threshold_CS_Pseudomonas_aeruginosa)"
   ],
   "outputs": []
  },
  {
   "cell_type": "code",
   "execution_count": 22,
   "id": "ccddac26-19c2-48a9-b9f2-edd8c6a72f37",
   "metadata": {},
   "source": [
    "# Find row names where the value is above the threshold\n",
    "above_threshold_rownames_CS_Pseudomonas_aeruginosa = merged1[\n",
    "    (merged1['CS_Pseudomonas aeruginosa'] == 0) &\n",
    "    (merged1['Pseudomonas'] > threshold_CS_Pseudomonas_aeruginosa)\n",
    "].index.tolist()\n",
    "# Print the row names\n",
    "print(above_threshold_rownames_CS_Pseudomonas_aeruginosa)"
   ],
   "outputs": []
  },
  {
   "cell_type": "code",
   "execution_count": 23,
   "id": "5f5f6bc8-9b7c-4fcf-879e-4691f06452af",
   "metadata": {},
   "source": [
    "# Save results to CSV\n",
    "pd.DataFrame(above_threshold_rownames_CS_Pseudomonas_aeruginosa).to_csv(\"CS_Pseudomonas.aeruginosa.csv\", index=False)"
   ],
   "outputs": []
  },
  {
   "cell_type": "code",
   "execution_count": null,
   "id": "a72d1ccf-539a-45b4-b353-2f16cce6c5be",
   "metadata": {},
   "source": [],
   "outputs": []
  }
 ],
 "metadata": {
  "kernelspec": {
   "display_name": "Python 3 (ipykernel)",
   "language": "python",
   "name": "python3"
  },
  "language_info": {
   "codemirror_mode": {
    "name": "ipython",
    "version": 3
   },
   "file_extension": ".py",
   "mimetype": "text/x-python",
   "name": "python",
   "nbconvert_exporter": "python",
   "pygments_lexer": "ipython3",
   "version": "3.9.5"
  }
 },
 "nbformat": 4,
 "nbformat_minor": 5
}
